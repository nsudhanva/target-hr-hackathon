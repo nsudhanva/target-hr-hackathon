{
 "cells": [
  {
   "cell_type": "code",
   "execution_count": 1,
   "metadata": {},
   "outputs": [],
   "source": [
    "import numpy as np\n",
    "import pandas as pd\n",
    "import matplotlib.pyplot as plt\n",
    "\n",
    "path = '../data/500SKUs_data.csv'"
   ]
  },
  {
   "cell_type": "code",
   "execution_count": 2,
   "metadata": {},
   "outputs": [],
   "source": [
    "df = pd.read_csv(path)"
   ]
  },
  {
   "cell_type": "code",
   "execution_count": 3,
   "metadata": {},
   "outputs": [
    {
     "data": {
      "text/html": [
       "<div>\n",
       "<style scoped>\n",
       "    .dataframe tbody tr th:only-of-type {\n",
       "        vertical-align: middle;\n",
       "    }\n",
       "\n",
       "    .dataframe tbody tr th {\n",
       "        vertical-align: top;\n",
       "    }\n",
       "\n",
       "    .dataframe thead th {\n",
       "        text-align: right;\n",
       "    }\n",
       "</style>\n",
       "<table border=\"1\" class=\"dataframe\">\n",
       "  <thead>\n",
       "    <tr style=\"text-align: right;\">\n",
       "      <th></th>\n",
       "      <th>date</th>\n",
       "      <th>skuId</th>\n",
       "      <th>skuDescription</th>\n",
       "      <th>Hierarchy_1</th>\n",
       "      <th>Hierarchy_3</th>\n",
       "      <th>Hierarchy_5</th>\n",
       "      <th>quantity</th>\n",
       "      <th>priceIndex</th>\n",
       "      <th>revenue</th>\n",
       "    </tr>\n",
       "  </thead>\n",
       "  <tbody>\n",
       "    <tr>\n",
       "      <th>0</th>\n",
       "      <td>12/30/2013</td>\n",
       "      <td>9781400032716</td>\n",
       "      <td>THE CURIOUS INCIDENT OF THE DOG IN THE NIGHTTIME</td>\n",
       "      <td>Fict Literary</td>\n",
       "      <td>Fiction</td>\n",
       "      <td>TRADE PAPERBACK</td>\n",
       "      <td>1</td>\n",
       "      <td>14.9500</td>\n",
       "      <td>13.45</td>\n",
       "    </tr>\n",
       "    <tr>\n",
       "      <th>1</th>\n",
       "      <td>12/30/2013</td>\n",
       "      <td>9781400205394</td>\n",
       "      <td>JESUS RELIGION WHY HE IS SO MUCH BETTER THAN T...</td>\n",
       "      <td>Christn Living</td>\n",
       "      <td>Religion/Inspiration</td>\n",
       "      <td>TRADE PAPERBACK</td>\n",
       "      <td>1</td>\n",
       "      <td>8.4900</td>\n",
       "      <td>8.49</td>\n",
       "    </tr>\n",
       "    <tr>\n",
       "      <th>2</th>\n",
       "      <td>12/31/2013</td>\n",
       "      <td>9780060530891</td>\n",
       "      <td>WHERES THE POOP</td>\n",
       "      <td>Infant/Tod-Potty Training</td>\n",
       "      <td>Parenting</td>\n",
       "      <td>TRADE HARDCOVER</td>\n",
       "      <td>5</td>\n",
       "      <td>10.9900</td>\n",
       "      <td>52.75</td>\n",
       "    </tr>\n",
       "    <tr>\n",
       "      <th>3</th>\n",
       "      <td>12/31/2013</td>\n",
       "      <td>9780060570941</td>\n",
       "      <td>BECKHAM BOTH FEET ON THE GROUND AN AUTOBIOGRAPHY</td>\n",
       "      <td>Soccer Bio</td>\n",
       "      <td>Sports Team</td>\n",
       "      <td>TRADE PAPERBACK</td>\n",
       "      <td>4</td>\n",
       "      <td>14.0525</td>\n",
       "      <td>56.21</td>\n",
       "    </tr>\n",
       "    <tr>\n",
       "      <th>4</th>\n",
       "      <td>12/31/2013</td>\n",
       "      <td>9780060924584</td>\n",
       "      <td>RUN WITH THE HUNTED A CHARLES BUKOWSKI READER</td>\n",
       "      <td>Fict Literary</td>\n",
       "      <td>Fiction</td>\n",
       "      <td>TRADE PAPERBACK</td>\n",
       "      <td>7</td>\n",
       "      <td>16.9900</td>\n",
       "      <td>110.43</td>\n",
       "    </tr>\n",
       "  </tbody>\n",
       "</table>\n",
       "</div>"
      ],
      "text/plain": [
       "         date          skuId  \\\n",
       "0  12/30/2013  9781400032716   \n",
       "1  12/30/2013  9781400205394   \n",
       "2  12/31/2013  9780060530891   \n",
       "3  12/31/2013  9780060570941   \n",
       "4  12/31/2013  9780060924584   \n",
       "\n",
       "                                      skuDescription  \\\n",
       "0   THE CURIOUS INCIDENT OF THE DOG IN THE NIGHTTIME   \n",
       "1  JESUS RELIGION WHY HE IS SO MUCH BETTER THAN T...   \n",
       "2                                    WHERES THE POOP   \n",
       "3   BECKHAM BOTH FEET ON THE GROUND AN AUTOBIOGRAPHY   \n",
       "4      RUN WITH THE HUNTED A CHARLES BUKOWSKI READER   \n",
       "\n",
       "                 Hierarchy_1           Hierarchy_3      Hierarchy_5  quantity  \\\n",
       "0              Fict Literary               Fiction  TRADE PAPERBACK         1   \n",
       "1             Christn Living  Religion/Inspiration  TRADE PAPERBACK         1   \n",
       "2  Infant/Tod-Potty Training             Parenting  TRADE HARDCOVER         5   \n",
       "3                 Soccer Bio           Sports Team  TRADE PAPERBACK         4   \n",
       "4              Fict Literary               Fiction  TRADE PAPERBACK         7   \n",
       "\n",
       "   priceIndex  revenue  \n",
       "0     14.9500    13.45  \n",
       "1      8.4900     8.49  \n",
       "2     10.9900    52.75  \n",
       "3     14.0525    56.21  \n",
       "4     16.9900   110.43  "
      ]
     },
     "execution_count": 3,
     "metadata": {},
     "output_type": "execute_result"
    }
   ],
   "source": [
    "df.head()"
   ]
  },
  {
   "cell_type": "code",
   "execution_count": 4,
   "metadata": {},
   "outputs": [
    {
     "data": {
      "text/html": [
       "<div>\n",
       "<style scoped>\n",
       "    .dataframe tbody tr th:only-of-type {\n",
       "        vertical-align: middle;\n",
       "    }\n",
       "\n",
       "    .dataframe tbody tr th {\n",
       "        vertical-align: top;\n",
       "    }\n",
       "\n",
       "    .dataframe thead th {\n",
       "        text-align: right;\n",
       "    }\n",
       "</style>\n",
       "<table border=\"1\" class=\"dataframe\">\n",
       "  <thead>\n",
       "    <tr style=\"text-align: right;\">\n",
       "      <th></th>\n",
       "      <th>skuId</th>\n",
       "      <th>quantity</th>\n",
       "      <th>priceIndex</th>\n",
       "      <th>revenue</th>\n",
       "    </tr>\n",
       "  </thead>\n",
       "  <tbody>\n",
       "    <tr>\n",
       "      <th>count</th>\n",
       "      <td>4.326010e+05</td>\n",
       "      <td>432601.000000</td>\n",
       "      <td>432601.000000</td>\n",
       "      <td>432601.000000</td>\n",
       "    </tr>\n",
       "    <tr>\n",
       "      <th>mean</th>\n",
       "      <td>9.781032e+12</td>\n",
       "      <td>5.877772</td>\n",
       "      <td>18.056566</td>\n",
       "      <td>96.479803</td>\n",
       "    </tr>\n",
       "    <tr>\n",
       "      <th>std</th>\n",
       "      <td>8.801963e+08</td>\n",
       "      <td>17.242280</td>\n",
       "      <td>8.065938</td>\n",
       "      <td>293.663158</td>\n",
       "    </tr>\n",
       "    <tr>\n",
       "      <th>min</th>\n",
       "      <td>9.780061e+12</td>\n",
       "      <td>1.000000</td>\n",
       "      <td>0.000000</td>\n",
       "      <td>0.000000</td>\n",
       "    </tr>\n",
       "    <tr>\n",
       "      <th>25%</th>\n",
       "      <td>9.780447e+12</td>\n",
       "      <td>1.000000</td>\n",
       "      <td>13.990000</td>\n",
       "      <td>18.980000</td>\n",
       "    </tr>\n",
       "    <tr>\n",
       "      <th>50%</th>\n",
       "      <td>9.780818e+12</td>\n",
       "      <td>3.000000</td>\n",
       "      <td>16.000000</td>\n",
       "      <td>41.600000</td>\n",
       "    </tr>\n",
       "    <tr>\n",
       "      <th>75%</th>\n",
       "      <td>9.781477e+12</td>\n",
       "      <td>5.000000</td>\n",
       "      <td>19.990000</td>\n",
       "      <td>87.290000</td>\n",
       "    </tr>\n",
       "    <tr>\n",
       "      <th>max</th>\n",
       "      <td>9.789813e+12</td>\n",
       "      <td>1933.000000</td>\n",
       "      <td>75.000000</td>\n",
       "      <td>41325.990000</td>\n",
       "    </tr>\n",
       "  </tbody>\n",
       "</table>\n",
       "</div>"
      ],
      "text/plain": [
       "              skuId       quantity     priceIndex        revenue\n",
       "count  4.326010e+05  432601.000000  432601.000000  432601.000000\n",
       "mean   9.781032e+12       5.877772      18.056566      96.479803\n",
       "std    8.801963e+08      17.242280       8.065938     293.663158\n",
       "min    9.780061e+12       1.000000       0.000000       0.000000\n",
       "25%    9.780447e+12       1.000000      13.990000      18.980000\n",
       "50%    9.780818e+12       3.000000      16.000000      41.600000\n",
       "75%    9.781477e+12       5.000000      19.990000      87.290000\n",
       "max    9.789813e+12    1933.000000      75.000000   41325.990000"
      ]
     },
     "execution_count": 4,
     "metadata": {},
     "output_type": "execute_result"
    }
   ],
   "source": [
    "df.describe()"
   ]
  },
  {
   "cell_type": "code",
   "execution_count": 5,
   "metadata": {},
   "outputs": [
    {
     "name": "stdout",
     "output_type": "stream",
     "text": [
      "<class 'pandas.core.frame.DataFrame'>\n",
      "RangeIndex: 432601 entries, 0 to 432600\n",
      "Data columns (total 9 columns):\n",
      "date              432601 non-null object\n",
      "skuId             432601 non-null int64\n",
      "skuDescription    430223 non-null object\n",
      "Hierarchy_1       432601 non-null object\n",
      "Hierarchy_3       432601 non-null object\n",
      "Hierarchy_5       432601 non-null object\n",
      "quantity          432601 non-null int64\n",
      "priceIndex        432601 non-null float64\n",
      "revenue           432601 non-null float64\n",
      "dtypes: float64(2), int64(2), object(5)\n",
      "memory usage: 29.7+ MB\n"
     ]
    }
   ],
   "source": [
    "df.info()"
   ]
  },
  {
   "cell_type": "code",
   "execution_count": 6,
   "metadata": {},
   "outputs": [],
   "source": [
    "df['skuId'] = pd.to_numeric(df['skuId']) \n",
    "df['Hierarchy_1'] = df['Hierarchy_1'].astype(str)\n",
    "df['Hierarchy_3'] = df['Hierarchy_3'].astype(str) \n",
    "df['Hierarchy_5'] = df['Hierarchy_5'].astype(str) "
   ]
  },
  {
   "cell_type": "code",
   "execution_count": 7,
   "metadata": {},
   "outputs": [],
   "source": [
    "df = df[['date', 'skuId', 'Hierarchy_1', 'Hierarchy_3',\n",
    "       'Hierarchy_5', 'quantity', 'priceIndex', 'revenue']]"
   ]
  },
  {
   "cell_type": "code",
   "execution_count": 8,
   "metadata": {},
   "outputs": [
    {
     "name": "stdout",
     "output_type": "stream",
     "text": [
      "<class 'pandas.core.frame.DataFrame'>\n",
      "RangeIndex: 432601 entries, 0 to 432600\n",
      "Data columns (total 8 columns):\n",
      "date           432601 non-null object\n",
      "skuId          432601 non-null int64\n",
      "Hierarchy_1    432601 non-null object\n",
      "Hierarchy_3    432601 non-null object\n",
      "Hierarchy_5    432601 non-null object\n",
      "quantity       432601 non-null int64\n",
      "priceIndex     432601 non-null float64\n",
      "revenue        432601 non-null float64\n",
      "dtypes: float64(2), int64(2), object(4)\n",
      "memory usage: 26.4+ MB\n"
     ]
    }
   ],
   "source": [
    "df.info()"
   ]
  },
  {
   "cell_type": "code",
   "execution_count": 9,
   "metadata": {},
   "outputs": [
    {
     "data": {
      "text/plain": [
       "date           0\n",
       "skuId          0\n",
       "Hierarchy_1    0\n",
       "Hierarchy_3    0\n",
       "Hierarchy_5    0\n",
       "quantity       0\n",
       "priceIndex     0\n",
       "revenue        0\n",
       "dtype: int64"
      ]
     },
     "execution_count": 9,
     "metadata": {},
     "output_type": "execute_result"
    }
   ],
   "source": [
    "df.isnull().sum()"
   ]
  },
  {
   "cell_type": "code",
   "execution_count": 10,
   "metadata": {},
   "outputs": [],
   "source": [
    "df['date'] = pd.to_datetime(df['date'])"
   ]
  },
  {
   "cell_type": "code",
   "execution_count": 11,
   "metadata": {},
   "outputs": [
    {
     "data": {
      "text/plain": [
       "502"
      ]
     },
     "execution_count": 11,
     "metadata": {},
     "output_type": "execute_result"
    }
   ],
   "source": [
    "df['skuId'].value_counts().count()"
   ]
  },
  {
   "cell_type": "code",
   "execution_count": 12,
   "metadata": {},
   "outputs": [
    {
     "data": {
      "text/plain": [
       "286"
      ]
     },
     "execution_count": 12,
     "metadata": {},
     "output_type": "execute_result"
    }
   ],
   "source": [
    "df['Hierarchy_1'].value_counts().count()"
   ]
  },
  {
   "cell_type": "code",
   "execution_count": 13,
   "metadata": {},
   "outputs": [
    {
     "data": {
      "text/plain": [
       "72"
      ]
     },
     "execution_count": 13,
     "metadata": {},
     "output_type": "execute_result"
    }
   ],
   "source": [
    "df['Hierarchy_3'].value_counts().count()"
   ]
  },
  {
   "cell_type": "code",
   "execution_count": 14,
   "metadata": {},
   "outputs": [
    {
     "data": {
      "text/plain": [
       "2"
      ]
     },
     "execution_count": 14,
     "metadata": {},
     "output_type": "execute_result"
    }
   ],
   "source": [
    "df['Hierarchy_5'].value_counts().count()"
   ]
  },
  {
   "cell_type": "code",
   "execution_count": 15,
   "metadata": {},
   "outputs": [
    {
     "data": {
      "text/plain": [
       "1497"
      ]
     },
     "execution_count": 15,
     "metadata": {},
     "output_type": "execute_result"
    }
   ],
   "source": [
    "df['date'].value_counts().count()"
   ]
  },
  {
   "cell_type": "code",
   "execution_count": 16,
   "metadata": {},
   "outputs": [
    {
     "data": {
      "text/plain": [
       "Timestamp('2018-02-11 00:00:00')"
      ]
     },
     "execution_count": 16,
     "metadata": {},
     "output_type": "execute_result"
    }
   ],
   "source": [
    "df['date'].max()"
   ]
  },
  {
   "cell_type": "code",
   "execution_count": 17,
   "metadata": {},
   "outputs": [
    {
     "data": {
      "text/plain": [
       "Timestamp('2013-12-30 00:00:00')"
      ]
     },
     "execution_count": 17,
     "metadata": {},
     "output_type": "execute_result"
    }
   ],
   "source": [
    "df['date'].min()"
   ]
  },
  {
   "cell_type": "code",
   "execution_count": 18,
   "metadata": {},
   "outputs": [],
   "source": [
    "given_dates = df['date'].unique()\n",
    "all_dates = pd.date_range(start='2013-12-30', end='2018-02-11')"
   ]
  },
  {
   "cell_type": "code",
   "execution_count": 19,
   "metadata": {},
   "outputs": [
    {
     "data": {
      "text/plain": [
       "1505"
      ]
     },
     "execution_count": 19,
     "metadata": {},
     "output_type": "execute_result"
    }
   ],
   "source": [
    "len(all_dates)"
   ]
  },
  {
   "cell_type": "code",
   "execution_count": 20,
   "metadata": {},
   "outputs": [],
   "source": [
    "missing_dates = np.setdiff1d(all_dates, given_dates)"
   ]
  },
  {
   "cell_type": "code",
   "execution_count": 21,
   "metadata": {},
   "outputs": [
    {
     "data": {
      "text/plain": [
       "8"
      ]
     },
     "execution_count": 21,
     "metadata": {},
     "output_type": "execute_result"
    }
   ],
   "source": [
    "len(missing_dates)"
   ]
  },
  {
   "cell_type": "code",
   "execution_count": 22,
   "metadata": {},
   "outputs": [],
   "source": [
    "missing_dates = pd.to_datetime(missing_dates)"
   ]
  },
  {
   "cell_type": "code",
   "execution_count": 23,
   "metadata": {},
   "outputs": [
    {
     "data": {
      "text/plain": [
       "DatetimeIndex(['2014-11-27', '2014-12-25', '2015-11-26', '2015-12-25',\n",
       "               '2016-11-24', '2016-12-25', '2017-11-23', '2017-12-25'],\n",
       "              dtype='datetime64[ns]', freq=None)"
      ]
     },
     "execution_count": 23,
     "metadata": {},
     "output_type": "execute_result"
    }
   ],
   "source": [
    "missing_dates"
   ]
  },
  {
   "cell_type": "code",
   "execution_count": 24,
   "metadata": {},
   "outputs": [],
   "source": [
    "df['selling'] = df['revenue'] / df['quantity']"
   ]
  },
  {
   "cell_type": "code",
   "execution_count": 25,
   "metadata": {},
   "outputs": [],
   "source": [
    "df['discount'] = df['priceIndex'] - df['selling']"
   ]
  },
  {
   "cell_type": "code",
   "execution_count": 26,
   "metadata": {},
   "outputs": [
    {
     "data": {
      "text/html": [
       "<div>\n",
       "<style scoped>\n",
       "    .dataframe tbody tr th:only-of-type {\n",
       "        vertical-align: middle;\n",
       "    }\n",
       "\n",
       "    .dataframe tbody tr th {\n",
       "        vertical-align: top;\n",
       "    }\n",
       "\n",
       "    .dataframe thead th {\n",
       "        text-align: right;\n",
       "    }\n",
       "</style>\n",
       "<table border=\"1\" class=\"dataframe\">\n",
       "  <thead>\n",
       "    <tr style=\"text-align: right;\">\n",
       "      <th></th>\n",
       "      <th>date</th>\n",
       "      <th>skuId</th>\n",
       "      <th>Hierarchy_1</th>\n",
       "      <th>Hierarchy_3</th>\n",
       "      <th>Hierarchy_5</th>\n",
       "      <th>quantity</th>\n",
       "      <th>priceIndex</th>\n",
       "      <th>revenue</th>\n",
       "      <th>selling</th>\n",
       "      <th>discount</th>\n",
       "    </tr>\n",
       "  </thead>\n",
       "  <tbody>\n",
       "    <tr>\n",
       "      <th>0</th>\n",
       "      <td>2013-12-30</td>\n",
       "      <td>9781400032716</td>\n",
       "      <td>Fict Literary</td>\n",
       "      <td>Fiction</td>\n",
       "      <td>TRADE PAPERBACK</td>\n",
       "      <td>1</td>\n",
       "      <td>14.9500</td>\n",
       "      <td>13.45</td>\n",
       "      <td>13.450000</td>\n",
       "      <td>1.500000</td>\n",
       "    </tr>\n",
       "    <tr>\n",
       "      <th>1</th>\n",
       "      <td>2013-12-30</td>\n",
       "      <td>9781400205394</td>\n",
       "      <td>Christn Living</td>\n",
       "      <td>Religion/Inspiration</td>\n",
       "      <td>TRADE PAPERBACK</td>\n",
       "      <td>1</td>\n",
       "      <td>8.4900</td>\n",
       "      <td>8.49</td>\n",
       "      <td>8.490000</td>\n",
       "      <td>0.000000</td>\n",
       "    </tr>\n",
       "    <tr>\n",
       "      <th>2</th>\n",
       "      <td>2013-12-31</td>\n",
       "      <td>9780060530891</td>\n",
       "      <td>Infant/Tod-Potty Training</td>\n",
       "      <td>Parenting</td>\n",
       "      <td>TRADE HARDCOVER</td>\n",
       "      <td>5</td>\n",
       "      <td>10.9900</td>\n",
       "      <td>52.75</td>\n",
       "      <td>10.550000</td>\n",
       "      <td>0.440000</td>\n",
       "    </tr>\n",
       "    <tr>\n",
       "      <th>3</th>\n",
       "      <td>2013-12-31</td>\n",
       "      <td>9780060570941</td>\n",
       "      <td>Soccer Bio</td>\n",
       "      <td>Sports Team</td>\n",
       "      <td>TRADE PAPERBACK</td>\n",
       "      <td>4</td>\n",
       "      <td>14.0525</td>\n",
       "      <td>56.21</td>\n",
       "      <td>14.052500</td>\n",
       "      <td>0.000000</td>\n",
       "    </tr>\n",
       "    <tr>\n",
       "      <th>4</th>\n",
       "      <td>2013-12-31</td>\n",
       "      <td>9780060924584</td>\n",
       "      <td>Fict Literary</td>\n",
       "      <td>Fiction</td>\n",
       "      <td>TRADE PAPERBACK</td>\n",
       "      <td>7</td>\n",
       "      <td>16.9900</td>\n",
       "      <td>110.43</td>\n",
       "      <td>15.775714</td>\n",
       "      <td>1.214286</td>\n",
       "    </tr>\n",
       "  </tbody>\n",
       "</table>\n",
       "</div>"
      ],
      "text/plain": [
       "        date          skuId                Hierarchy_1           Hierarchy_3  \\\n",
       "0 2013-12-30  9781400032716              Fict Literary               Fiction   \n",
       "1 2013-12-30  9781400205394             Christn Living  Religion/Inspiration   \n",
       "2 2013-12-31  9780060530891  Infant/Tod-Potty Training             Parenting   \n",
       "3 2013-12-31  9780060570941                 Soccer Bio           Sports Team   \n",
       "4 2013-12-31  9780060924584              Fict Literary               Fiction   \n",
       "\n",
       "       Hierarchy_5  quantity  priceIndex  revenue    selling  discount  \n",
       "0  TRADE PAPERBACK         1     14.9500    13.45  13.450000  1.500000  \n",
       "1  TRADE PAPERBACK         1      8.4900     8.49   8.490000  0.000000  \n",
       "2  TRADE HARDCOVER         5     10.9900    52.75  10.550000  0.440000  \n",
       "3  TRADE PAPERBACK         4     14.0525    56.21  14.052500  0.000000  \n",
       "4  TRADE PAPERBACK         7     16.9900   110.43  15.775714  1.214286  "
      ]
     },
     "execution_count": 26,
     "metadata": {},
     "output_type": "execute_result"
    }
   ],
   "source": [
    "df.head()"
   ]
  },
  {
   "cell_type": "code",
   "execution_count": 27,
   "metadata": {},
   "outputs": [],
   "source": [
    "df_2013_discount = df[(df['date'] < '2014-01-01') & (df['discount'] > 0)]\n",
    "df_2013_no_discount = df[(df['date'] < '2014-01-01') & (df['discount'] == 0)]"
   ]
  },
  {
   "cell_type": "code",
   "execution_count": 28,
   "metadata": {},
   "outputs": [],
   "source": [
    "df_discount =  df[df['discount'] > 0]\n",
    "df_no_discount = df[df['discount'] == 0]"
   ]
  },
  {
   "cell_type": "code",
   "execution_count": 29,
   "metadata": {},
   "outputs": [],
   "source": [
    "df_discount_group = df_discount.groupby(['skuId']).sum()['revenue'].sort_index()"
   ]
  },
  {
   "cell_type": "code",
   "execution_count": 30,
   "metadata": {},
   "outputs": [],
   "source": [
    "df_no_discount_group = df_no_discount.groupby(['skuId']).sum()['revenue'].sort_index()"
   ]
  },
  {
   "cell_type": "code",
   "execution_count": 31,
   "metadata": {},
   "outputs": [],
   "source": [
    "df_final = df_discount_group > df_no_discount_group"
   ]
  },
  {
   "cell_type": "code",
   "execution_count": 32,
   "metadata": {},
   "outputs": [
    {
     "data": {
      "text/plain": [
       "skuId\n",
       "9780060530891     True\n",
       "9780060570941     True\n",
       "9780060924584     True\n",
       "9780061155772     True\n",
       "9780061351631     True\n",
       "9780061451843     True\n",
       "9780061469060    False\n",
       "9780061687457     True\n",
       "9780061724947     True\n",
       "9780061740237     True\n",
       "9780061763298     True\n",
       "9780061997211     True\n",
       "9780062226655     True\n",
       "9780062267535     True\n",
       "9780062323774     True\n",
       "9780062387875     True\n",
       "9780062388513     True\n",
       "9780062441706     True\n",
       "9780062445544     True\n",
       "9780062457332     True\n",
       "9780062458827     True\n",
       "9780062486141     True\n",
       "9780062661371     True\n",
       "9780066620992     True\n",
       "9780071486101     True\n",
       "9780071767736     True\n",
       "9780071807371     True\n",
       "9780134511184     True\n",
       "9780140154030     True\n",
       "9780140238280     True\n",
       "                 ...  \n",
       "9781848312050    False\n",
       "9781889057774    False\n",
       "9781890774981     True\n",
       "9781904991847     True\n",
       "9781907708534     True\n",
       "9781910904329     True\n",
       "9781930332966     True\n",
       "9781931636872     True\n",
       "9781933363059     True\n",
       "9781933372006     True\n",
       "9781933397269     True\n",
       "9781936214600     True\n",
       "9781936913954     True\n",
       "9781937538781     True\n",
       "9781937715281     True\n",
       "9781940352015     True\n",
       "9781943451364     True\n",
       "9781943893058     True\n",
       "9782035410153     True\n",
       "9782035410412     True\n",
       "9782067216129     True\n",
       "9783836544030     True\n",
       "9783836555227     True\n",
       "9783836555814     True\n",
       "9786071104809     True\n",
       "9788466331890     True\n",
       "9788496746763    False\n",
       "9788497594240    False\n",
       "9788498259346    False\n",
       "9789812689634     True\n",
       "Name: revenue, Length: 502, dtype: bool"
      ]
     },
     "execution_count": 32,
     "metadata": {},
     "output_type": "execute_result"
    }
   ],
   "source": [
    "df_final"
   ]
  },
  {
   "cell_type": "code",
   "execution_count": 33,
   "metadata": {},
   "outputs": [],
   "source": [
    "df_final = df_final[df_final == True]\n",
    "df_final_false = df_final[df_final == False]"
   ]
  },
  {
   "cell_type": "code",
   "execution_count": 34,
   "metadata": {},
   "outputs": [
    {
     "data": {
      "text/plain": [
       "Series([], Name: revenue, dtype: bool)"
      ]
     },
     "execution_count": 34,
     "metadata": {},
     "output_type": "execute_result"
    }
   ],
   "source": [
    "df_final_false"
   ]
  },
  {
   "cell_type": "code",
   "execution_count": 35,
   "metadata": {},
   "outputs": [
    {
     "name": "stdout",
     "output_type": "stream",
     "text": [
      "9780060530891\n",
      "9780060570941\n",
      "9780060924584\n",
      "9780061155772\n",
      "9780061351631\n",
      "9780061451843\n",
      "9780061687457\n",
      "9780061724947\n",
      "9780061740237\n",
      "9780061763298\n",
      "9780061997211\n",
      "9780062226655\n",
      "9780062267535\n",
      "9780062323774\n",
      "9780062387875\n",
      "9780062388513\n",
      "9780062441706\n",
      "9780062445544\n",
      "9780062457332\n",
      "9780062458827\n",
      "9780062486141\n",
      "9780062661371\n",
      "9780066620992\n",
      "9780071486101\n",
      "9780071767736\n",
      "9780071807371\n",
      "9780134511184\n",
      "9780140154030\n",
      "9780140238280\n",
      "9780142181676\n",
      "9780143036562\n",
      "9780143110712\n",
      "9780143114246\n",
      "9780143114550\n",
      "9780143118701\n",
      "9780143119609\n",
      "9780143122135\n",
      "9780143122302\n",
      "9780143122975\n",
      "9780143126843\n",
      "9780143129455\n",
      "9780147515322\n",
      "9780156011464\n",
      "9780156027649\n",
      "9780156106986\n",
      "9780156439619\n",
      "9780198745464\n",
      "9780198759492\n",
      "9780226323039\n",
      "9780306824135\n",
      "9780307278821\n",
      "9780307338402\n",
      "9780307386045\n",
      "9780307387264\n",
      "9780307457820\n",
      "9780307461360\n",
      "9780307475152\n",
      "9780307587596\n",
      "9780307592736\n",
      "9780307700254\n",
      "9780307744203\n",
      "9780307885159\n",
      "9780307886064\n",
      "9780307887962\n",
      "9780307951465\n",
      "9780310546511\n",
      "9780310629320\n",
      "9780312324889\n",
      "9780312571214\n",
      "9780312590390\n",
      "9780312681418\n",
      "9780316077545\n",
      "9780316219341\n",
      "9780316228954\n",
      "9780316230025\n",
      "9780316304412\n",
      "9780316319973\n",
      "9780316385213\n",
      "9780316445092\n",
      "9780316468169\n",
      "9780316476492\n",
      "9780321884916\n",
      "9780345373533\n",
      "9780345404473\n",
      "9780345523747\n",
      "9780345536747\n",
      "9780345804907\n",
      "9780374168285\n",
      "9780374520250\n",
      "9780385333788\n",
      "9780385334921\n",
      "9780385347426\n",
      "9780385523899\n",
      "9780385537674\n",
      "9780393039764\n",
      "9780393244830\n",
      "9780393334777\n",
      "9780393339802\n",
      "9780393345117\n",
      "9780395833643\n",
      "9780399165788\n",
      "9780399506437\n",
      "9780399531651\n",
      "9780399563966\n",
      "9780399588808\n",
      "9780425252963\n",
      "9780425277812\n",
      "9780425280126\n",
      "9780446571791\n",
      "9780446677165\n",
      "9780446695671\n",
      "9780446699488\n",
      "9780451237699\n",
      "9780452298484\n",
      "9780470410806\n",
      "9780470472019\n",
      "9780470487723\n",
      "9780470489987\n",
      "9780470528327\n",
      "9780470887141\n",
      "9780486295701\n",
      "9780486797489\n",
      "9780525501251\n",
      "9780547572291\n",
      "9780553380958\n",
      "9780553384796\n",
      "9780553384840\n",
      "9780553385953\n",
      "9780553393231\n",
      "9780553448436\n",
      "9780615207834\n",
      "9780618658985\n",
      "9780618773435\n",
      "9780670035052\n",
      "9780671747589\n",
      "9780679406839\n",
      "9780679732266\n",
      "9780688154875\n",
      "9780718036256\n",
      "9780736957762\n",
      "9780736970945\n",
      "9780738218410\n",
      "9780738609720\n",
      "9780738611426\n",
      "9780738702872\n",
      "9780738746234\n",
      "9780743203906\n",
      "9780743225502\n",
      "9780743258074\n",
      "9780744018882\n",
      "9780756628673\n",
      "9780756686734\n",
      "9780756690250\n",
      "9780758280312\n",
      "9780758290427\n",
      "9780760768952\n",
      "9780761157380\n",
      "9780761168256\n",
      "9780761169253\n",
      "9780761181798\n",
      "9780761184317\n",
      "9780761513117\n",
      "9780762445776\n",
      "9780762771813\n",
      "9780762773404\n",
      "9780764141904\n",
      "9780764146077\n",
      "9780764164330\n",
      "9780764345968\n",
      "9780765322562\n",
      "9780765376671\n",
      "9780765555731\n",
      "9780767918596\n",
      "9780770433857\n",
      "9780778314356\n",
      "9780778318910\n",
      "9780778804031\n",
      "9780785192619\n",
      "9780785268406\n",
      "9780786886029\n",
      "9780786888412\n",
      "9780787947354\n",
      "9780789752888\n",
      "9780789758668\n",
      "9780793504459\n",
      "9780793836147\n",
      "9780794438449\n",
      "9780801451812\n",
      "9780802778994\n",
      "9780804139441\n",
      "9780804140485\n",
      "9780804747479\n",
      "9780804838375\n",
      "9780804847650\n",
      "9780805089448\n",
      "9780805243291\n",
      "9780811224321\n",
      "9780811825252\n",
      "9780812031652\n",
      "9780812936070\n",
      "9780812975802\n",
      "9780812978186\n",
      "9780812979237\n",
      "9780812981155\n",
      "9780812993349\n",
      "9780812995466\n",
      "9780812997873\n",
      "9780814437964\n",
      "9780817439569\n",
      "9780818404306\n",
      "9780821228180\n",
      "9780823006731\n",
      "9780836220858\n",
      "9780848733667\n",
      "9780849922404\n",
      "9780865478619\n",
      "9780873588720\n",
      "9780876853627\n",
      "9780879101367\n",
      "9780891419068\n",
      "9780898708332\n",
      "9780899976815\n",
      "9780932551467\n",
      "9780970445711\n",
      "9780988325364\n",
      "9781101873724\n",
      "9781101880180\n",
      "9781101982747\n",
      "9781101989661\n",
      "9781118161999\n",
      "9781118206539\n",
      "9781118364031\n",
      "9781118490365\n",
      "9781118510551\n",
      "9781118645758\n",
      "9781118681183\n",
      "9781119248200\n",
      "9781250009197\n",
      "9781250010087\n",
      "9781250062123\n",
      "9781250068781\n",
      "9781250081216\n",
      "9781250086143\n",
      "9781250095503\n",
      "9781250106995\n",
      "9781250126788\n",
      "9781250133540\n",
      "9781250137746\n",
      "9781259588419\n",
      "9781302902155\n",
      "9781400032716\n",
      "9781400034949\n",
      "9781400049356\n",
      "9781400205394\n",
      "9781401228071\n",
      "9781401242954\n",
      "9781401246952\n",
      "9781401265670\n",
      "9781401268930\n",
      "9781401308810\n",
      "9781402261695\n",
      "9781402273049\n",
      "9781402719165\n",
      "9781402735974\n",
      "9781402736001\n",
      "9781402774232\n",
      "9781402774690\n",
      "9781404104341\n",
      "9781411400399\n",
      "9781411469709\n",
      "9781411470682\n",
      "9781411470958\n",
      "9781416583868\n",
      "9781416592242\n",
      "9781416608844\n",
      "9781419537257\n",
      "9781421536262\n",
      "9781421538167\n",
      "9781421564135\n",
      "9781421583327\n",
      "9781421584942\n",
      "9781421587677\n",
      "9781426211614\n",
      "9781438009919\n",
      "9781438072968\n",
      "9781440505362\n",
      "9781440531675\n",
      "9781440559297\n",
      "9781440567544\n",
      "9781440577062\n",
      "9781440599026\n",
      "9781440599941\n",
      "9781442429888\n",
      "9781449357412\n",
      "9781451606645\n",
      "9781451650259\n",
      "9781451666953\n",
      "9781454701262\n",
      "9781454909200\n",
      "9781454912187\n",
      "9781454917410\n",
      "9781454925217\n",
      "9781454926313\n",
      "9781455562930\n",
      "9781455567102\n",
      "9781465402073\n",
      "9781465419651\n",
      "9781465426802\n",
      "9781465440174\n",
      "9781465457110\n",
      "9781467137690\n",
      "9781467137782\n",
      "9781469626666\n",
      "9781476725116\n",
      "9781476746531\n",
      "9781476763767\n",
      "9781476793269\n",
      "9781476797328\n",
      "9781480367043\n",
      "9781481481441\n",
      "9781493026012\n",
      "9781493030088\n",
      "9781496703170\n",
      "9781496711113\n",
      "9781501101212\n",
      "9781501103940\n",
      "9781501118159\n",
      "9781501145827\n",
      "9781501172038\n",
      "9781506208534\n",
      "9781522983248\n",
      "9781561700455\n",
      "9781563892738\n",
      "9781565540248\n",
      "9781567187076\n",
      "9781568584607\n",
      "9781571313584\n",
      "9781578595426\n",
      "9781578636082\n",
      "9781580420631\n",
      "9781580626958\n",
      "9781581345612\n",
      "9781582408057\n",
      "9781582555386\n",
      "9781583335123\n",
      "9781583551271\n",
      "9781586380205\n",
      "9781591797289\n",
      "9781591843177\n",
      "9781591846352\n",
      "9781591930457\n",
      "9781593081379\n",
      "9781593082567\n",
      "9781593082734\n",
      "9781593787455\n",
      "9781594205187\n",
      "9781594484469\n",
      "9781594716324\n",
      "9781594748080\n",
      "9781594748189\n",
      "9781595620033\n",
      "9781596143456\n",
      "9781598695809\n",
      "9781599214405\n",
      "9781599621319\n",
      "9781599639307\n",
      "9781600785603\n",
      "9781600853579\n",
      "9781601251503\n",
      "9781601258496\n",
      "9781601429292\n",
      "9781601632906\n",
      "9781601633521\n",
      "9781604336955\n",
      "9781604694178\n",
      "9781604695359\n",
      "9781605501185\n",
      "9781607066927\n",
      "9781607741169\n",
      "9781608106233\n",
      "9781610390934\n",
      "9781610881753\n",
      "9781611212457\n",
      "9781611800777\n",
      "9781611802894\n",
      "9781612123981\n",
      "9781612124049\n",
      "9781612434483\n",
      "9781612622569\n",
      "9781612625966\n",
      "9781615640836\n",
      "9781615644407\n",
      "9781616282141\n",
      "9781616556846\n",
      "9781616951887\n",
      "9781616954758\n",
      "9781617230158\n",
      "9781617600739\n",
      "9781617951572\n",
      "9781618931207\n",
      "9781620104347\n",
      "9781620405208\n",
      "9781620407684\n",
      "9781621452010\n",
      "9781621575818\n",
      "9781622823178\n",
      "9781622866045\n",
      "9781623157142\n",
      "9781623157456\n",
      "9781623171001\n",
      "9781623650766\n",
      "9781628870824\n",
      "9781631492525\n",
      "9781632158710\n",
      "9781632460240\n",
      "9781681443898\n",
      "9781682559871\n",
      "9781742208770\n",
      "9781771641104\n",
      "9781780052045\n",
      "9781780288963\n",
      "9781780678665\n",
      "9781781161746\n",
      "9781781590041\n",
      "9781783291076\n",
      "9781784780128\n",
      "9781784880125\n",
      "9781786571571\n",
      "9781890774981\n",
      "9781904991847\n",
      "9781907708534\n",
      "9781910904329\n",
      "9781930332966\n",
      "9781931636872\n",
      "9781933363059\n",
      "9781933372006\n",
      "9781933397269\n",
      "9781936214600\n",
      "9781936913954\n",
      "9781937538781\n",
      "9781937715281\n",
      "9781940352015\n",
      "9781943451364\n",
      "9781943893058\n",
      "9782035410153\n",
      "9782035410412\n",
      "9782067216129\n",
      "9783836544030\n",
      "9783836555227\n",
      "9783836555814\n",
      "9786071104809\n",
      "9788466331890\n",
      "9789812689634\n"
     ]
    }
   ],
   "source": [
    "for index, value in df_final.iteritems():\n",
    "    print(index)"
   ]
  },
  {
   "cell_type": "code",
   "execution_count": 36,
   "metadata": {},
   "outputs": [
    {
     "data": {
      "text/html": [
       "<div>\n",
       "<style scoped>\n",
       "    .dataframe tbody tr th:only-of-type {\n",
       "        vertical-align: middle;\n",
       "    }\n",
       "\n",
       "    .dataframe tbody tr th {\n",
       "        vertical-align: top;\n",
       "    }\n",
       "\n",
       "    .dataframe thead th {\n",
       "        text-align: right;\n",
       "    }\n",
       "</style>\n",
       "<table border=\"1\" class=\"dataframe\">\n",
       "  <thead>\n",
       "    <tr style=\"text-align: right;\">\n",
       "      <th></th>\n",
       "      <th>date</th>\n",
       "      <th>skuId</th>\n",
       "      <th>Hierarchy_1</th>\n",
       "      <th>Hierarchy_3</th>\n",
       "      <th>Hierarchy_5</th>\n",
       "      <th>quantity</th>\n",
       "      <th>priceIndex</th>\n",
       "      <th>revenue</th>\n",
       "      <th>selling</th>\n",
       "      <th>discount</th>\n",
       "    </tr>\n",
       "  </thead>\n",
       "  <tbody>\n",
       "    <tr>\n",
       "      <th>0</th>\n",
       "      <td>2013-12-30</td>\n",
       "      <td>9781400032716</td>\n",
       "      <td>Fict Literary</td>\n",
       "      <td>Fiction</td>\n",
       "      <td>TRADE PAPERBACK</td>\n",
       "      <td>1</td>\n",
       "      <td>14.9500</td>\n",
       "      <td>13.45</td>\n",
       "      <td>13.450000</td>\n",
       "      <td>1.500000</td>\n",
       "    </tr>\n",
       "    <tr>\n",
       "      <th>1</th>\n",
       "      <td>2013-12-30</td>\n",
       "      <td>9781400205394</td>\n",
       "      <td>Christn Living</td>\n",
       "      <td>Religion/Inspiration</td>\n",
       "      <td>TRADE PAPERBACK</td>\n",
       "      <td>1</td>\n",
       "      <td>8.4900</td>\n",
       "      <td>8.49</td>\n",
       "      <td>8.490000</td>\n",
       "      <td>0.000000</td>\n",
       "    </tr>\n",
       "    <tr>\n",
       "      <th>2</th>\n",
       "      <td>2013-12-31</td>\n",
       "      <td>9780060530891</td>\n",
       "      <td>Infant/Tod-Potty Training</td>\n",
       "      <td>Parenting</td>\n",
       "      <td>TRADE HARDCOVER</td>\n",
       "      <td>5</td>\n",
       "      <td>10.9900</td>\n",
       "      <td>52.75</td>\n",
       "      <td>10.550000</td>\n",
       "      <td>0.440000</td>\n",
       "    </tr>\n",
       "    <tr>\n",
       "      <th>3</th>\n",
       "      <td>2013-12-31</td>\n",
       "      <td>9780060570941</td>\n",
       "      <td>Soccer Bio</td>\n",
       "      <td>Sports Team</td>\n",
       "      <td>TRADE PAPERBACK</td>\n",
       "      <td>4</td>\n",
       "      <td>14.0525</td>\n",
       "      <td>56.21</td>\n",
       "      <td>14.052500</td>\n",
       "      <td>0.000000</td>\n",
       "    </tr>\n",
       "    <tr>\n",
       "      <th>4</th>\n",
       "      <td>2013-12-31</td>\n",
       "      <td>9780060924584</td>\n",
       "      <td>Fict Literary</td>\n",
       "      <td>Fiction</td>\n",
       "      <td>TRADE PAPERBACK</td>\n",
       "      <td>7</td>\n",
       "      <td>16.9900</td>\n",
       "      <td>110.43</td>\n",
       "      <td>15.775714</td>\n",
       "      <td>1.214286</td>\n",
       "    </tr>\n",
       "  </tbody>\n",
       "</table>\n",
       "</div>"
      ],
      "text/plain": [
       "        date          skuId                Hierarchy_1           Hierarchy_3  \\\n",
       "0 2013-12-30  9781400032716              Fict Literary               Fiction   \n",
       "1 2013-12-30  9781400205394             Christn Living  Religion/Inspiration   \n",
       "2 2013-12-31  9780060530891  Infant/Tod-Potty Training             Parenting   \n",
       "3 2013-12-31  9780060570941                 Soccer Bio           Sports Team   \n",
       "4 2013-12-31  9780060924584              Fict Literary               Fiction   \n",
       "\n",
       "       Hierarchy_5  quantity  priceIndex  revenue    selling  discount  \n",
       "0  TRADE PAPERBACK         1     14.9500    13.45  13.450000  1.500000  \n",
       "1  TRADE PAPERBACK         1      8.4900     8.49   8.490000  0.000000  \n",
       "2  TRADE HARDCOVER         5     10.9900    52.75  10.550000  0.440000  \n",
       "3  TRADE PAPERBACK         4     14.0525    56.21  14.052500  0.000000  \n",
       "4  TRADE PAPERBACK         7     16.9900   110.43  15.775714  1.214286  "
      ]
     },
     "execution_count": 36,
     "metadata": {},
     "output_type": "execute_result"
    }
   ],
   "source": [
    "df.head()"
   ]
  },
  {
   "cell_type": "code",
   "execution_count": 37,
   "metadata": {},
   "outputs": [],
   "source": [
    "df_old = df[(df['date'] < '2017-10-30')]\n",
    "df_2017_18 = df[(df['date'] > '2017-10-30') & (df['date'] <= '2018-02-11')]\n",
    "\n",
    "df_2017_18_discount = df_2017_18[(df_2017_18['discount'] > 0)]\n",
    "df_2017_18_no_discount = df_2017_18[(df_2017_18['discount'] == 0)]"
   ]
  },
  {
   "cell_type": "code",
   "execution_count": 38,
   "metadata": {},
   "outputs": [],
   "source": [
    "df_2017_18_discount_group = df_2017_18_discount.groupby(['skuId']).sum()['revenue'].sort_index()\n",
    "df_2017_18_no_discount_group = df_2017_18_no_discount.groupby(['skuId']).sum()['revenue'].sort_index()"
   ]
  },
  {
   "cell_type": "code",
   "execution_count": 39,
   "metadata": {},
   "outputs": [
    {
     "data": {
      "text/plain": [
       "skuId\n",
       "9780060530891      3387.54\n",
       "9780060570941      2857.77\n",
       "9780060924584      1801.01\n",
       "9780061155772      2063.01\n",
       "9780061351631      1394.96\n",
       "9780061451843       238.77\n",
       "9780061469060       120.93\n",
       "9780061687457     12580.59\n",
       "9780061724947      3037.87\n",
       "9780061740237      2713.60\n",
       "9780061763298       236.82\n",
       "9780061997211       199.42\n",
       "9780062226655       189.79\n",
       "9780062267535      7583.86\n",
       "9780062323774       155.94\n",
       "9780062387875      1273.69\n",
       "9780062388513        18.89\n",
       "9780062445544       429.55\n",
       "9780062457332      1101.67\n",
       "9780062458827      5532.09\n",
       "9780062486141     34879.87\n",
       "9780062661371      5930.38\n",
       "9780066620992    121731.38\n",
       "9780071486101     16469.09\n",
       "9780071767736      2156.73\n",
       "9780071807371      2590.91\n",
       "9780134511184      7353.18\n",
       "9780140154030       167.30\n",
       "9780140238280      4143.84\n",
       "9780142181676      1474.97\n",
       "                   ...    \n",
       "9781848312050        42.77\n",
       "9781889057774       271.91\n",
       "9781890774981      1370.51\n",
       "9781904991847      5937.79\n",
       "9781907708534        26.95\n",
       "9781910904329       183.40\n",
       "9781930332966       442.01\n",
       "9781931636872      3147.20\n",
       "9781933363059       275.76\n",
       "9781933372006      3817.65\n",
       "9781933397269        88.48\n",
       "9781936214600       769.37\n",
       "9781936913954       240.67\n",
       "9781937538781       471.35\n",
       "9781937715281      9765.80\n",
       "9781940352015     17232.89\n",
       "9781943451364     11599.17\n",
       "9781943893058      1706.23\n",
       "9782035410153      3198.90\n",
       "9782035410412       216.14\n",
       "9782067216129      1037.41\n",
       "9783836544030       876.74\n",
       "9783836555227      1047.76\n",
       "9783836555814      1320.72\n",
       "9786071104809      1384.66\n",
       "9788466331890       437.18\n",
       "9788496746763        14.40\n",
       "9788497594240       200.94\n",
       "9788498259346        38.32\n",
       "9789812689634      4510.04\n",
       "Name: revenue, Length: 490, dtype: float64"
      ]
     },
     "execution_count": 39,
     "metadata": {},
     "output_type": "execute_result"
    }
   ],
   "source": [
    "df_2017_18_discount_group"
   ]
  },
  {
   "cell_type": "code",
   "execution_count": 40,
   "metadata": {},
   "outputs": [],
   "source": [
    "new_sales = list(set(df_2017_18_discount_group.index) - set(df_old['skuId']))"
   ]
  },
  {
   "cell_type": "code",
   "execution_count": 41,
   "metadata": {},
   "outputs": [],
   "source": [
    "df_new_sales = df[df.skuId.isin(tuple(new_sales))] "
   ]
  },
  {
   "cell_type": "code",
   "execution_count": 42,
   "metadata": {},
   "outputs": [],
   "source": [
    "df_new_discount = []\n",
    "df_new_no_discount = []\n",
    "\n",
    "for sale in new_sales:\n",
    "    df_new_discount.append(df_new_sales[(df_new_sales['skuId'] == sale) & (df_new_sales['discount'] > 0)])\n",
    "    df_new_no_discount.append(df_new_sales[(df_new_sales['skuId'] == sale) & (df_new_sales['discount'] == 0)])"
   ]
  },
  {
   "cell_type": "code",
   "execution_count": 43,
   "metadata": {},
   "outputs": [
    {
     "data": {
      "text/plain": [
       "3"
      ]
     },
     "execution_count": 43,
     "metadata": {},
     "output_type": "execute_result"
    }
   ],
   "source": [
    "len(df_new_discount)"
   ]
  },
  {
   "cell_type": "code",
   "execution_count": 44,
   "metadata": {},
   "outputs": [
    {
     "data": {
      "text/plain": [
       "3"
      ]
     },
     "execution_count": 44,
     "metadata": {},
     "output_type": "execute_result"
    }
   ],
   "source": [
    "len(df_new_no_discount)"
   ]
  },
  {
   "cell_type": "code",
   "execution_count": 46,
   "metadata": {},
   "outputs": [
    {
     "data": {
      "image/png": "[encoded data removed]",
      "text/plain": [
       "<Figure size 1440x720 with 1 Axes>"
      ]
     },
     "metadata": {},
     "output_type": "display_data"
    },
    {
     "data": {
      "text/plain": [
       "<Figure size 432x288 with 0 Axes>"
      ]
     },
     "metadata": {},
     "output_type": "display_data"
    },
    {
     "data": {
      "image/png": "[encoded data removed]",
      "text/plain": [
       "<Figure size 1440x720 with 1 Axes>"
      ]
     },
     "metadata": {},
     "output_type": "display_data"
    },
    {
     "data": {
      "text/plain": [
       "<Figure size 432x288 with 0 Axes>"
      ]
     },
     "metadata": {},
     "output_type": "display_data"
    },
    {
     "data": {
      "image/png": "[encoded data removed]",
      "text/plain": [
       "<Figure size 1440x720 with 1 Axes>"
      ]
     },
     "metadata": {},
     "output_type": "display_data"
    },
    {
     "data": {
      "text/plain": [
       "<Figure size 432x288 with 0 Axes>"
      ]
     },
     "metadata": {},
     "output_type": "display_data"
    }
   ],
   "source": [
    "count = 0\n",
    "\n",
    "for new_discount, new_no_discount in zip(df_new_discount, df_new_no_discount):\n",
    "    plt.figure(figsize=(20,10))\n",
    "    plt.plot(new_discount['date'], new_discount['quantity'], marker='.', color='b')\n",
    "    plt.plot(new_no_discount['date'], new_no_discount['quantity'], marker='.', color='r')\n",
    "#     plt.xticks(pd.date_range('2017-10-30', '2018-02-11'))\n",
    "    plt.title('Date vs Quantity - skuID')\n",
    "    plt.xlabel('Dates')\n",
    "    plt.ylabel('Quantity')\n",
    "    plt.show()\n",
    "    \n",
    "    plt.savefig(str(count))\n",
    "    count += 0"
   ]
  }
 ],
 "metadata": {
  "kernelspec": {
   "display_name": "Python 3",
   "language": "python",
   "name": "python3"
  },
  "language_info": {
   "codemirror_mode": {
    "name": "ipython",
    "version": 3
   },
   "file_extension": ".py",
   "mimetype": "text/x-python",
   "name": "python",
   "nbconvert_exporter": "python",
   "pygments_lexer": "ipython3",
   "version": "3.6.6"
  }
 },
 "nbformat": 4,
 "nbformat_minor": 2
}
