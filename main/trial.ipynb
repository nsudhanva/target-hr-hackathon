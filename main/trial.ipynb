{
 "cells": [
  {
   "cell_type": "code",
   "execution_count": 1,
   "metadata": {},
   "outputs": [],
   "source": [
    "import numpy as np\n",
    "import pandas as pd\n",
    "\n",
    "path = '../data/500SKUs_data.csv'"
   ]
  },
  {
   "cell_type": "code",
   "execution_count": 2,
   "metadata": {},
   "outputs": [],
   "source": [
    "df = pd.read_csv(path)"
   ]
  },
  {
   "cell_type": "code",
   "execution_count": 3,
   "metadata": {},
   "outputs": [
    {
     "data": {
      "text/html": [
       "<div>\n",
       "<style scoped>\n",
       "    .dataframe tbody tr th:only-of-type {\n",
       "        vertical-align: middle;\n",
       "    }\n",
       "\n",
       "    .dataframe tbody tr th {\n",
       "        vertical-align: top;\n",
       "    }\n",
       "\n",
       "    .dataframe thead th {\n",
       "        text-align: right;\n",
       "    }\n",
       "</style>\n",
       "<table border=\"1\" class=\"dataframe\">\n",
       "  <thead>\n",
       "    <tr style=\"text-align: right;\">\n",
       "      <th></th>\n",
       "      <th>date</th>\n",
       "      <th>skuId</th>\n",
       "      <th>skuDescription</th>\n",
       "      <th>Hierarchy_1</th>\n",
       "      <th>Hierarchy_3</th>\n",
       "      <th>Hierarchy_5</th>\n",
       "      <th>quantity</th>\n",
       "      <th>priceIndex</th>\n",
       "      <th>revenue</th>\n",
       "    </tr>\n",
       "  </thead>\n",
       "  <tbody>\n",
       "    <tr>\n",
       "      <th>0</th>\n",
       "      <td>12/30/2013</td>\n",
       "      <td>9781400032716</td>\n",
       "      <td>THE CURIOUS INCIDENT OF THE DOG IN THE NIGHTTIME</td>\n",
       "      <td>Fict Literary</td>\n",
       "      <td>Fiction</td>\n",
       "      <td>TRADE PAPERBACK</td>\n",
       "      <td>1</td>\n",
       "      <td>14.9500</td>\n",
       "      <td>13.45</td>\n",
       "    </tr>\n",
       "    <tr>\n",
       "      <th>1</th>\n",
       "      <td>12/30/2013</td>\n",
       "      <td>9781400205394</td>\n",
       "      <td>JESUS RELIGION WHY HE IS SO MUCH BETTER THAN T...</td>\n",
       "      <td>Christn Living</td>\n",
       "      <td>Religion/Inspiration</td>\n",
       "      <td>TRADE PAPERBACK</td>\n",
       "      <td>1</td>\n",
       "      <td>8.4900</td>\n",
       "      <td>8.49</td>\n",
       "    </tr>\n",
       "    <tr>\n",
       "      <th>2</th>\n",
       "      <td>12/31/2013</td>\n",
       "      <td>9780060530891</td>\n",
       "      <td>WHERES THE POOP</td>\n",
       "      <td>Infant/Tod-Potty Training</td>\n",
       "      <td>Parenting</td>\n",
       "      <td>TRADE HARDCOVER</td>\n",
       "      <td>5</td>\n",
       "      <td>10.9900</td>\n",
       "      <td>52.75</td>\n",
       "    </tr>\n",
       "    <tr>\n",
       "      <th>3</th>\n",
       "      <td>12/31/2013</td>\n",
       "      <td>9780060570941</td>\n",
       "      <td>BECKHAM BOTH FEET ON THE GROUND AN AUTOBIOGRAPHY</td>\n",
       "      <td>Soccer Bio</td>\n",
       "      <td>Sports Team</td>\n",
       "      <td>TRADE PAPERBACK</td>\n",
       "      <td>4</td>\n",
       "      <td>14.0525</td>\n",
       "      <td>56.21</td>\n",
       "    </tr>\n",
       "    <tr>\n",
       "      <th>4</th>\n",
       "      <td>12/31/2013</td>\n",
       "      <td>9780060924584</td>\n",
       "      <td>RUN WITH THE HUNTED A CHARLES BUKOWSKI READER</td>\n",
       "      <td>Fict Literary</td>\n",
       "      <td>Fiction</td>\n",
       "      <td>TRADE PAPERBACK</td>\n",
       "      <td>7</td>\n",
       "      <td>16.9900</td>\n",
       "      <td>110.43</td>\n",
       "    </tr>\n",
       "  </tbody>\n",
       "</table>\n",
       "</div>"
      ],
      "text/plain": [
       "         date          skuId  \\\n",
       "0  12/30/2013  9781400032716   \n",
       "1  12/30/2013  9781400205394   \n",
       "2  12/31/2013  9780060530891   \n",
       "3  12/31/2013  9780060570941   \n",
       "4  12/31/2013  9780060924584   \n",
       "\n",
       "                                      skuDescription  \\\n",
       "0   THE CURIOUS INCIDENT OF THE DOG IN THE NIGHTTIME   \n",
       "1  JESUS RELIGION WHY HE IS SO MUCH BETTER THAN T...   \n",
       "2                                    WHERES THE POOP   \n",
       "3   BECKHAM BOTH FEET ON THE GROUND AN AUTOBIOGRAPHY   \n",
       "4      RUN WITH THE HUNTED A CHARLES BUKOWSKI READER   \n",
       "\n",
       "                 Hierarchy_1           Hierarchy_3      Hierarchy_5  quantity  \\\n",
       "0              Fict Literary               Fiction  TRADE PAPERBACK         1   \n",
       "1             Christn Living  Religion/Inspiration  TRADE PAPERBACK         1   \n",
       "2  Infant/Tod-Potty Training             Parenting  TRADE HARDCOVER         5   \n",
       "3                 Soccer Bio           Sports Team  TRADE PAPERBACK         4   \n",
       "4              Fict Literary               Fiction  TRADE PAPERBACK         7   \n",
       "\n",
       "   priceIndex  revenue  \n",
       "0     14.9500    13.45  \n",
       "1      8.4900     8.49  \n",
       "2     10.9900    52.75  \n",
       "3     14.0525    56.21  \n",
       "4     16.9900   110.43  "
      ]
     },
     "execution_count": 3,
     "metadata": {},
     "output_type": "execute_result"
    }
   ],
   "source": [
    "df.head()"
   ]
  },
  {
   "cell_type": "code",
   "execution_count": 4,
   "metadata": {},
   "outputs": [
    {
     "data": {
      "text/html": [
       "<div>\n",
       "<style scoped>\n",
       "    .dataframe tbody tr th:only-of-type {\n",
       "        vertical-align: middle;\n",
       "    }\n",
       "\n",
       "    .dataframe tbody tr th {\n",
       "        vertical-align: top;\n",
       "    }\n",
       "\n",
       "    .dataframe thead th {\n",
       "        text-align: right;\n",
       "    }\n",
       "</style>\n",
       "<table border=\"1\" class=\"dataframe\">\n",
       "  <thead>\n",
       "    <tr style=\"text-align: right;\">\n",
       "      <th></th>\n",
       "      <th>skuId</th>\n",
       "      <th>quantity</th>\n",
       "      <th>priceIndex</th>\n",
       "      <th>revenue</th>\n",
       "    </tr>\n",
       "  </thead>\n",
       "  <tbody>\n",
       "    <tr>\n",
       "      <th>count</th>\n",
       "      <td>4.326010e+05</td>\n",
       "      <td>432601.000000</td>\n",
       "      <td>432601.000000</td>\n",
       "      <td>432601.000000</td>\n",
       "    </tr>\n",
       "    <tr>\n",
       "      <th>mean</th>\n",
       "      <td>9.781032e+12</td>\n",
       "      <td>5.877772</td>\n",
       "      <td>18.056566</td>\n",
       "      <td>96.479803</td>\n",
       "    </tr>\n",
       "    <tr>\n",
       "      <th>std</th>\n",
       "      <td>8.801963e+08</td>\n",
       "      <td>17.242280</td>\n",
       "      <td>8.065938</td>\n",
       "      <td>293.663158</td>\n",
       "    </tr>\n",
       "    <tr>\n",
       "      <th>min</th>\n",
       "      <td>9.780061e+12</td>\n",
       "      <td>1.000000</td>\n",
       "      <td>0.000000</td>\n",
       "      <td>0.000000</td>\n",
       "    </tr>\n",
       "    <tr>\n",
       "      <th>25%</th>\n",
       "      <td>9.780447e+12</td>\n",
       "      <td>1.000000</td>\n",
       "      <td>13.990000</td>\n",
       "      <td>18.980000</td>\n",
       "    </tr>\n",
       "    <tr>\n",
       "      <th>50%</th>\n",
       "      <td>9.780818e+12</td>\n",
       "      <td>3.000000</td>\n",
       "      <td>16.000000</td>\n",
       "      <td>41.600000</td>\n",
       "    </tr>\n",
       "    <tr>\n",
       "      <th>75%</th>\n",
       "      <td>9.781477e+12</td>\n",
       "      <td>5.000000</td>\n",
       "      <td>19.990000</td>\n",
       "      <td>87.290000</td>\n",
       "    </tr>\n",
       "    <tr>\n",
       "      <th>max</th>\n",
       "      <td>9.789813e+12</td>\n",
       "      <td>1933.000000</td>\n",
       "      <td>75.000000</td>\n",
       "      <td>41325.990000</td>\n",
       "    </tr>\n",
       "  </tbody>\n",
       "</table>\n",
       "</div>"
      ],
      "text/plain": [
       "              skuId       quantity     priceIndex        revenue\n",
       "count  4.326010e+05  432601.000000  432601.000000  432601.000000\n",
       "mean   9.781032e+12       5.877772      18.056566      96.479803\n",
       "std    8.801963e+08      17.242280       8.065938     293.663158\n",
       "min    9.780061e+12       1.000000       0.000000       0.000000\n",
       "25%    9.780447e+12       1.000000      13.990000      18.980000\n",
       "50%    9.780818e+12       3.000000      16.000000      41.600000\n",
       "75%    9.781477e+12       5.000000      19.990000      87.290000\n",
       "max    9.789813e+12    1933.000000      75.000000   41325.990000"
      ]
     },
     "execution_count": 4,
     "metadata": {},
     "output_type": "execute_result"
    }
   ],
   "source": [
    "df.describe()"
   ]
  },
  {
   "cell_type": "code",
   "execution_count": 5,
   "metadata": {},
   "outputs": [
    {
     "name": "stdout",
     "output_type": "stream",
     "text": [
      "<class 'pandas.core.frame.DataFrame'>\n",
      "RangeIndex: 432601 entries, 0 to 432600\n",
      "Data columns (total 9 columns):\n",
      "date              432601 non-null object\n",
      "skuId             432601 non-null int64\n",
      "skuDescription    430223 non-null object\n",
      "Hierarchy_1       432601 non-null object\n",
      "Hierarchy_3       432601 non-null object\n",
      "Hierarchy_5       432601 non-null object\n",
      "quantity          432601 non-null int64\n",
      "priceIndex        432601 non-null float64\n",
      "revenue           432601 non-null float64\n",
      "dtypes: float64(2), int64(2), object(5)\n",
      "memory usage: 29.7+ MB\n"
     ]
    }
   ],
   "source": [
    "df.info()"
   ]
  },
  {
   "cell_type": "code",
   "execution_count": 6,
   "metadata": {},
   "outputs": [],
   "source": [
    "df['skuId'] = pd.to_numeric(df['skuId']) \n",
    "df['Hierarchy_1'] = df['Hierarchy_1'].astype(str)\n",
    "df['Hierarchy_3'] = df['Hierarchy_3'].astype(str) \n",
    "df['Hierarchy_5'] = df['Hierarchy_5'].astype(str) "
   ]
  },
  {
   "cell_type": "code",
   "execution_count": 7,
   "metadata": {},
   "outputs": [],
   "source": [
    "df = df[['date', 'skuId', 'Hierarchy_1', 'Hierarchy_3',\n",
    "       'Hierarchy_5', 'quantity', 'priceIndex', 'revenue']]"
   ]
  },
  {
   "cell_type": "code",
   "execution_count": 8,
   "metadata": {},
   "outputs": [
    {
     "name": "stdout",
     "output_type": "stream",
     "text": [
      "<class 'pandas.core.frame.DataFrame'>\n",
      "RangeIndex: 432601 entries, 0 to 432600\n",
      "Data columns (total 8 columns):\n",
      "date           432601 non-null object\n",
      "skuId          432601 non-null int64\n",
      "Hierarchy_1    432601 non-null object\n",
      "Hierarchy_3    432601 non-null object\n",
      "Hierarchy_5    432601 non-null object\n",
      "quantity       432601 non-null int64\n",
      "priceIndex     432601 non-null float64\n",
      "revenue        432601 non-null float64\n",
      "dtypes: float64(2), int64(2), object(4)\n",
      "memory usage: 26.4+ MB\n"
     ]
    }
   ],
   "source": [
    "df.info()"
   ]
  },
  {
   "cell_type": "code",
   "execution_count": 9,
   "metadata": {},
   "outputs": [
    {
     "data": {
      "text/plain": [
       "date           0\n",
       "skuId          0\n",
       "Hierarchy_1    0\n",
       "Hierarchy_3    0\n",
       "Hierarchy_5    0\n",
       "quantity       0\n",
       "priceIndex     0\n",
       "revenue        0\n",
       "dtype: int64"
      ]
     },
     "execution_count": 9,
     "metadata": {},
     "output_type": "execute_result"
    }
   ],
   "source": [
    "df.isnull().sum()"
   ]
  },
  {
   "cell_type": "code",
   "execution_count": 10,
   "metadata": {},
   "outputs": [],
   "source": [
    "df['date'] = pd.to_datetime(df['date'])"
   ]
  },
  {
   "cell_type": "code",
   "execution_count": 11,
   "metadata": {},
   "outputs": [
    {
     "data": {
      "text/plain": [
       "502"
      ]
     },
     "execution_count": 11,
     "metadata": {},
     "output_type": "execute_result"
    }
   ],
   "source": [
    "df['skuId'].value_counts().count()"
   ]
  },
  {
   "cell_type": "code",
   "execution_count": 12,
   "metadata": {},
   "outputs": [
    {
     "data": {
      "text/plain": [
       "286"
      ]
     },
     "execution_count": 12,
     "metadata": {},
     "output_type": "execute_result"
    }
   ],
   "source": [
    "df['Hierarchy_1'].value_counts().count()"
   ]
  },
  {
   "cell_type": "code",
   "execution_count": 13,
   "metadata": {},
   "outputs": [
    {
     "data": {
      "text/plain": [
       "72"
      ]
     },
     "execution_count": 13,
     "metadata": {},
     "output_type": "execute_result"
    }
   ],
   "source": [
    "df['Hierarchy_3'].value_counts().count()"
   ]
  },
  {
   "cell_type": "code",
   "execution_count": 14,
   "metadata": {},
   "outputs": [
    {
     "data": {
      "text/plain": [
       "2"
      ]
     },
     "execution_count": 14,
     "metadata": {},
     "output_type": "execute_result"
    }
   ],
   "source": [
    "df['Hierarchy_5'].value_counts().count()"
   ]
  },
  {
   "cell_type": "code",
   "execution_count": 15,
   "metadata": {},
   "outputs": [
    {
     "data": {
      "text/plain": [
       "1497"
      ]
     },
     "execution_count": 15,
     "metadata": {},
     "output_type": "execute_result"
    }
   ],
   "source": [
    "df['date'].value_counts().count()"
   ]
  },
  {
   "cell_type": "code",
   "execution_count": 16,
   "metadata": {},
   "outputs": [
    {
     "data": {
      "text/plain": [
       "Timestamp('2018-02-11 00:00:00')"
      ]
     },
     "execution_count": 16,
     "metadata": {},
     "output_type": "execute_result"
    }
   ],
   "source": [
    "df['date'].max()"
   ]
  },
  {
   "cell_type": "code",
   "execution_count": 17,
   "metadata": {},
   "outputs": [
    {
     "data": {
      "text/plain": [
       "Timestamp('2013-12-30 00:00:00')"
      ]
     },
     "execution_count": 17,
     "metadata": {},
     "output_type": "execute_result"
    }
   ],
   "source": [
    "df['date'].min()"
   ]
  },
  {
   "cell_type": "code",
   "execution_count": 18,
   "metadata": {},
   "outputs": [],
   "source": [
    "given_dates = df['date'].unique()\n",
    "all_dates = pd.date_range(start='2013-12-30', end='2018-02-11')"
   ]
  },
  {
   "cell_type": "code",
   "execution_count": 19,
   "metadata": {},
   "outputs": [
    {
     "data": {
      "text/plain": [
       "1505"
      ]
     },
     "execution_count": 19,
     "metadata": {},
     "output_type": "execute_result"
    }
   ],
   "source": [
    "len(all_dates)"
   ]
  },
  {
   "cell_type": "code",
   "execution_count": 20,
   "metadata": {},
   "outputs": [],
   "source": [
    "missing_dates = np.setdiff1d(all_dates, given_dates)"
   ]
  },
  {
   "cell_type": "code",
   "execution_count": 21,
   "metadata": {},
   "outputs": [
    {
     "data": {
      "text/plain": [
       "8"
      ]
     },
     "execution_count": 21,
     "metadata": {},
     "output_type": "execute_result"
    }
   ],
   "source": [
    "len(missing_dates)"
   ]
  },
  {
   "cell_type": "code",
   "execution_count": 22,
   "metadata": {},
   "outputs": [],
   "source": [
    "missing_dates = pd.to_datetime(missing_dates)"
   ]
  },
  {
   "cell_type": "code",
   "execution_count": 23,
   "metadata": {},
   "outputs": [
    {
     "data": {
      "text/plain": [
       "DatetimeIndex(['2014-11-27', '2014-12-25', '2015-11-26', '2015-12-25',\n",
       "               '2016-11-24', '2016-12-25', '2017-11-23', '2017-12-25'],\n",
       "              dtype='datetime64[ns]', freq=None)"
      ]
     },
     "execution_count": 23,
     "metadata": {},
     "output_type": "execute_result"
    }
   ],
   "source": [
    "missing_dates"
   ]
  },
  {
   "cell_type": "code",
   "execution_count": null,
   "metadata": {},
   "outputs": [],
   "source": []
  }
 ],
 "metadata": {
  "kernelspec": {
   "display_name": "Python 3",
   "language": "python",
   "name": "python3"
  },
  "language_info": {
   "codemirror_mode": {
    "name": "ipython",
    "version": 3
   },
   "file_extension": ".py",
   "mimetype": "text/x-python",
   "name": "python",
   "nbconvert_exporter": "python",
   "pygments_lexer": "ipython3",
   "version": "3.6.6"
  }
 },
 "nbformat": 4,
 "nbformat_minor": 2
}
