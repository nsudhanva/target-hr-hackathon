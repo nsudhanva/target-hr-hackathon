{
 "cells": [
  {
   "cell_type": "code",
   "execution_count": 1,
   "metadata": {},
   "outputs": [],
   "source": [
    "import numpy as np\n",
    "import pandas as pd\n",
    "import matplotlib.pyplot as plt\n",
    "\n",
    "path = '../data/500SKUs_data.csv'"
   ]
  },
  {
   "cell_type": "code",
   "execution_count": 2,
   "metadata": {},
   "outputs": [],
   "source": [
    "df = pd.read_csv(path)"
   ]
  },
  {
   "cell_type": "code",
   "execution_count": 3,
   "metadata": {},
   "outputs": [
    {
     "data": {
      "text/html": [
       "<div>\n",
       "<style scoped>\n",
       "    .dataframe tbody tr th:only-of-type {\n",
       "        vertical-align: middle;\n",
       "    }\n",
       "\n",
       "    .dataframe tbody tr th {\n",
       "        vertical-align: top;\n",
       "    }\n",
       "\n",
       "    .dataframe thead th {\n",
       "        text-align: right;\n",
       "    }\n",
       "</style>\n",
       "<table border=\"1\" class=\"dataframe\">\n",
       "  <thead>\n",
       "    <tr style=\"text-align: right;\">\n",
       "      <th></th>\n",
       "      <th>date</th>\n",
       "      <th>skuId</th>\n",
       "      <th>skuDescription</th>\n",
       "      <th>Hierarchy_1</th>\n",
       "      <th>Hierarchy_3</th>\n",
       "      <th>Hierarchy_5</th>\n",
       "      <th>quantity</th>\n",
       "      <th>priceIndex</th>\n",
       "      <th>revenue</th>\n",
       "    </tr>\n",
       "  </thead>\n",
       "  <tbody>\n",
       "    <tr>\n",
       "      <th>0</th>\n",
       "      <td>12/30/2013</td>\n",
       "      <td>9781400032716</td>\n",
       "      <td>THE CURIOUS INCIDENT OF THE DOG IN THE NIGHTTIME</td>\n",
       "      <td>Fict Literary</td>\n",
       "      <td>Fiction</td>\n",
       "      <td>TRADE PAPERBACK</td>\n",
       "      <td>1</td>\n",
       "      <td>14.9500</td>\n",
       "      <td>13.45</td>\n",
       "    </tr>\n",
       "    <tr>\n",
       "      <th>1</th>\n",
       "      <td>12/30/2013</td>\n",
       "      <td>9781400205394</td>\n",
       "      <td>JESUS RELIGION WHY HE IS SO MUCH BETTER THAN T...</td>\n",
       "      <td>Christn Living</td>\n",
       "      <td>Religion/Inspiration</td>\n",
       "      <td>TRADE PAPERBACK</td>\n",
       "      <td>1</td>\n",
       "      <td>8.4900</td>\n",
       "      <td>8.49</td>\n",
       "    </tr>\n",
       "    <tr>\n",
       "      <th>2</th>\n",
       "      <td>12/31/2013</td>\n",
       "      <td>9780060530891</td>\n",
       "      <td>WHERES THE POOP</td>\n",
       "      <td>Infant/Tod-Potty Training</td>\n",
       "      <td>Parenting</td>\n",
       "      <td>TRADE HARDCOVER</td>\n",
       "      <td>5</td>\n",
       "      <td>10.9900</td>\n",
       "      <td>52.75</td>\n",
       "    </tr>\n",
       "    <tr>\n",
       "      <th>3</th>\n",
       "      <td>12/31/2013</td>\n",
       "      <td>9780060570941</td>\n",
       "      <td>BECKHAM BOTH FEET ON THE GROUND AN AUTOBIOGRAPHY</td>\n",
       "      <td>Soccer Bio</td>\n",
       "      <td>Sports Team</td>\n",
       "      <td>TRADE PAPERBACK</td>\n",
       "      <td>4</td>\n",
       "      <td>14.0525</td>\n",
       "      <td>56.21</td>\n",
       "    </tr>\n",
       "    <tr>\n",
       "      <th>4</th>\n",
       "      <td>12/31/2013</td>\n",
       "      <td>9780060924584</td>\n",
       "      <td>RUN WITH THE HUNTED A CHARLES BUKOWSKI READER</td>\n",
       "      <td>Fict Literary</td>\n",
       "      <td>Fiction</td>\n",
       "      <td>TRADE PAPERBACK</td>\n",
       "      <td>7</td>\n",
       "      <td>16.9900</td>\n",
       "      <td>110.43</td>\n",
       "    </tr>\n",
       "  </tbody>\n",
       "</table>\n",
       "</div>"
      ],
      "text/plain": [
       "         date          skuId  \\\n",
       "0  12/30/2013  9781400032716   \n",
       "1  12/30/2013  9781400205394   \n",
       "2  12/31/2013  9780060530891   \n",
       "3  12/31/2013  9780060570941   \n",
       "4  12/31/2013  9780060924584   \n",
       "\n",
       "                                      skuDescription  \\\n",
       "0   THE CURIOUS INCIDENT OF THE DOG IN THE NIGHTTIME   \n",
       "1  JESUS RELIGION WHY HE IS SO MUCH BETTER THAN T...   \n",
       "2                                    WHERES THE POOP   \n",
       "3   BECKHAM BOTH FEET ON THE GROUND AN AUTOBIOGRAPHY   \n",
       "4      RUN WITH THE HUNTED A CHARLES BUKOWSKI READER   \n",
       "\n",
       "                 Hierarchy_1           Hierarchy_3      Hierarchy_5  quantity  \\\n",
       "0              Fict Literary               Fiction  TRADE PAPERBACK         1   \n",
       "1             Christn Living  Religion/Inspiration  TRADE PAPERBACK         1   \n",
       "2  Infant/Tod-Potty Training             Parenting  TRADE HARDCOVER         5   \n",
       "3                 Soccer Bio           Sports Team  TRADE PAPERBACK         4   \n",
       "4              Fict Literary               Fiction  TRADE PAPERBACK         7   \n",
       "\n",
       "   priceIndex  revenue  \n",
       "0     14.9500    13.45  \n",
       "1      8.4900     8.49  \n",
       "2     10.9900    52.75  \n",
       "3     14.0525    56.21  \n",
       "4     16.9900   110.43  "
      ]
     },
     "execution_count": 3,
     "metadata": {},
     "output_type": "execute_result"
    }
   ],
   "source": [
    "df.head()"
   ]
  },
  {
   "cell_type": "code",
   "execution_count": 4,
   "metadata": {},
   "outputs": [
    {
     "data": {
      "text/html": [
       "<div>\n",
       "<style scoped>\n",
       "    .dataframe tbody tr th:only-of-type {\n",
       "        vertical-align: middle;\n",
       "    }\n",
       "\n",
       "    .dataframe tbody tr th {\n",
       "        vertical-align: top;\n",
       "    }\n",
       "\n",
       "    .dataframe thead th {\n",
       "        text-align: right;\n",
       "    }\n",
       "</style>\n",
       "<table border=\"1\" class=\"dataframe\">\n",
       "  <thead>\n",
       "    <tr style=\"text-align: right;\">\n",
       "      <th></th>\n",
       "      <th>skuId</th>\n",
       "      <th>quantity</th>\n",
       "      <th>priceIndex</th>\n",
       "      <th>revenue</th>\n",
       "    </tr>\n",
       "  </thead>\n",
       "  <tbody>\n",
       "    <tr>\n",
       "      <th>count</th>\n",
       "      <td>4.326010e+05</td>\n",
       "      <td>432601.000000</td>\n",
       "      <td>432601.000000</td>\n",
       "      <td>432601.000000</td>\n",
       "    </tr>\n",
       "    <tr>\n",
       "      <th>mean</th>\n",
       "      <td>9.781032e+12</td>\n",
       "      <td>5.877772</td>\n",
       "      <td>18.056566</td>\n",
       "      <td>96.479803</td>\n",
       "    </tr>\n",
       "    <tr>\n",
       "      <th>std</th>\n",
       "      <td>8.801963e+08</td>\n",
       "      <td>17.242280</td>\n",
       "      <td>8.065938</td>\n",
       "      <td>293.663158</td>\n",
       "    </tr>\n",
       "    <tr>\n",
       "      <th>min</th>\n",
       "      <td>9.780061e+12</td>\n",
       "      <td>1.000000</td>\n",
       "      <td>0.000000</td>\n",
       "      <td>0.000000</td>\n",
       "    </tr>\n",
       "    <tr>\n",
       "      <th>25%</th>\n",
       "      <td>9.780447e+12</td>\n",
       "      <td>1.000000</td>\n",
       "      <td>13.990000</td>\n",
       "      <td>18.980000</td>\n",
       "    </tr>\n",
       "    <tr>\n",
       "      <th>50%</th>\n",
       "      <td>9.780818e+12</td>\n",
       "      <td>3.000000</td>\n",
       "      <td>16.000000</td>\n",
       "      <td>41.600000</td>\n",
       "    </tr>\n",
       "    <tr>\n",
       "      <th>75%</th>\n",
       "      <td>9.781477e+12</td>\n",
       "      <td>5.000000</td>\n",
       "      <td>19.990000</td>\n",
       "      <td>87.290000</td>\n",
       "    </tr>\n",
       "    <tr>\n",
       "      <th>max</th>\n",
       "      <td>9.789813e+12</td>\n",
       "      <td>1933.000000</td>\n",
       "      <td>75.000000</td>\n",
       "      <td>41325.990000</td>\n",
       "    </tr>\n",
       "  </tbody>\n",
       "</table>\n",
       "</div>"
      ],
      "text/plain": [
       "              skuId       quantity     priceIndex        revenue\n",
       "count  4.326010e+05  432601.000000  432601.000000  432601.000000\n",
       "mean   9.781032e+12       5.877772      18.056566      96.479803\n",
       "std    8.801963e+08      17.242280       8.065938     293.663158\n",
       "min    9.780061e+12       1.000000       0.000000       0.000000\n",
       "25%    9.780447e+12       1.000000      13.990000      18.980000\n",
       "50%    9.780818e+12       3.000000      16.000000      41.600000\n",
       "75%    9.781477e+12       5.000000      19.990000      87.290000\n",
       "max    9.789813e+12    1933.000000      75.000000   41325.990000"
      ]
     },
     "execution_count": 4,
     "metadata": {},
     "output_type": "execute_result"
    }
   ],
   "source": [
    "df.describe()"
   ]
  },
  {
   "cell_type": "code",
   "execution_count": 5,
   "metadata": {},
   "outputs": [
    {
     "name": "stdout",
     "output_type": "stream",
     "text": [
      "<class 'pandas.core.frame.DataFrame'>\n",
      "RangeIndex: 432601 entries, 0 to 432600\n",
      "Data columns (total 9 columns):\n",
      "date              432601 non-null object\n",
      "skuId             432601 non-null int64\n",
      "skuDescription    430223 non-null object\n",
      "Hierarchy_1       432601 non-null object\n",
      "Hierarchy_3       432601 non-null object\n",
      "Hierarchy_5       432601 non-null object\n",
      "quantity          432601 non-null int64\n",
      "priceIndex        432601 non-null float64\n",
      "revenue           432601 non-null float64\n",
      "dtypes: float64(2), int64(2), object(5)\n",
      "memory usage: 29.7+ MB\n"
     ]
    }
   ],
   "source": [
    "df.info()"
   ]
  },
  {
   "cell_type": "code",
   "execution_count": 6,
   "metadata": {},
   "outputs": [],
   "source": [
    "df['skuId'] = pd.to_numeric(df['skuId']) \n",
    "df['Hierarchy_1'] = df['Hierarchy_1'].astype(str)\n",
    "df['Hierarchy_3'] = df['Hierarchy_3'].astype(str) \n",
    "df['Hierarchy_5'] = df['Hierarchy_5'].astype(str) "
   ]
  },
  {
   "cell_type": "code",
   "execution_count": 7,
   "metadata": {},
   "outputs": [],
   "source": [
    "df = df[['date', 'skuId', 'Hierarchy_1', 'Hierarchy_3',\n",
    "       'Hierarchy_5', 'quantity', 'priceIndex', 'revenue']]"
   ]
  },
  {
   "cell_type": "code",
   "execution_count": 8,
   "metadata": {},
   "outputs": [
    {
     "name": "stdout",
     "output_type": "stream",
     "text": [
      "<class 'pandas.core.frame.DataFrame'>\n",
      "RangeIndex: 432601 entries, 0 to 432600\n",
      "Data columns (total 8 columns):\n",
      "date           432601 non-null object\n",
      "skuId          432601 non-null int64\n",
      "Hierarchy_1    432601 non-null object\n",
      "Hierarchy_3    432601 non-null object\n",
      "Hierarchy_5    432601 non-null object\n",
      "quantity       432601 non-null int64\n",
      "priceIndex     432601 non-null float64\n",
      "revenue        432601 non-null float64\n",
      "dtypes: float64(2), int64(2), object(4)\n",
      "memory usage: 26.4+ MB\n"
     ]
    }
   ],
   "source": [
    "df.info()"
   ]
  },
  {
   "cell_type": "code",
   "execution_count": 9,
   "metadata": {},
   "outputs": [
    {
     "data": {
      "text/plain": [
       "date           0\n",
       "skuId          0\n",
       "Hierarchy_1    0\n",
       "Hierarchy_3    0\n",
       "Hierarchy_5    0\n",
       "quantity       0\n",
       "priceIndex     0\n",
       "revenue        0\n",
       "dtype: int64"
      ]
     },
     "execution_count": 9,
     "metadata": {},
     "output_type": "execute_result"
    }
   ],
   "source": [
    "df.isnull().sum()"
   ]
  },
  {
   "cell_type": "code",
   "execution_count": 10,
   "metadata": {},
   "outputs": [],
   "source": [
    "df['date'] = pd.to_datetime(df['date'])"
   ]
  },
  {
   "cell_type": "code",
   "execution_count": 11,
   "metadata": {},
   "outputs": [
    {
     "data": {
      "text/plain": [
       "502"
      ]
     },
     "execution_count": 11,
     "metadata": {},
     "output_type": "execute_result"
    }
   ],
   "source": [
    "df['skuId'].value_counts().count()"
   ]
  },
  {
   "cell_type": "code",
   "execution_count": 12,
   "metadata": {},
   "outputs": [
    {
     "data": {
      "text/plain": [
       "286"
      ]
     },
     "execution_count": 12,
     "metadata": {},
     "output_type": "execute_result"
    }
   ],
   "source": [
    "df['Hierarchy_1'].value_counts().count()"
   ]
  },
  {
   "cell_type": "code",
   "execution_count": 13,
   "metadata": {},
   "outputs": [
    {
     "data": {
      "text/plain": [
       "72"
      ]
     },
     "execution_count": 13,
     "metadata": {},
     "output_type": "execute_result"
    }
   ],
   "source": [
    "df['Hierarchy_3'].value_counts().count()"
   ]
  },
  {
   "cell_type": "code",
   "execution_count": 14,
   "metadata": {},
   "outputs": [
    {
     "data": {
      "text/plain": [
       "2"
      ]
     },
     "execution_count": 14,
     "metadata": {},
     "output_type": "execute_result"
    }
   ],
   "source": [
    "df['Hierarchy_5'].value_counts().count()"
   ]
  },
  {
   "cell_type": "code",
   "execution_count": 15,
   "metadata": {},
   "outputs": [
    {
     "data": {
      "text/plain": [
       "1497"
      ]
     },
     "execution_count": 15,
     "metadata": {},
     "output_type": "execute_result"
    }
   ],
   "source": [
    "df['date'].value_counts().count()"
   ]
  },
  {
   "cell_type": "code",
   "execution_count": 16,
   "metadata": {},
   "outputs": [
    {
     "data": {
      "text/plain": [
       "Timestamp('2018-02-11 00:00:00')"
      ]
     },
     "execution_count": 16,
     "metadata": {},
     "output_type": "execute_result"
    }
   ],
   "source": [
    "df['date'].max()"
   ]
  },
  {
   "cell_type": "code",
   "execution_count": 17,
   "metadata": {},
   "outputs": [
    {
     "data": {
      "text/plain": [
       "Timestamp('2013-12-30 00:00:00')"
      ]
     },
     "execution_count": 17,
     "metadata": {},
     "output_type": "execute_result"
    }
   ],
   "source": [
    "df['date'].min()"
   ]
  },
  {
   "cell_type": "code",
   "execution_count": 18,
   "metadata": {},
   "outputs": [],
   "source": [
    "given_dates = df['date'].unique()\n",
    "all_dates = pd.date_range(start='2013-12-30', end='2018-02-11')"
   ]
  },
  {
   "cell_type": "code",
   "execution_count": 19,
   "metadata": {},
   "outputs": [
    {
     "data": {
      "text/plain": [
       "1505"
      ]
     },
     "execution_count": 19,
     "metadata": {},
     "output_type": "execute_result"
    }
   ],
   "source": [
    "len(all_dates)"
   ]
  },
  {
   "cell_type": "code",
   "execution_count": 20,
   "metadata": {},
   "outputs": [],
   "source": [
    "missing_dates = np.setdiff1d(all_dates, given_dates)"
   ]
  },
  {
   "cell_type": "code",
   "execution_count": 21,
   "metadata": {},
   "outputs": [
    {
     "data": {
      "text/plain": [
       "8"
      ]
     },
     "execution_count": 21,
     "metadata": {},
     "output_type": "execute_result"
    }
   ],
   "source": [
    "len(missing_dates)"
   ]
  },
  {
   "cell_type": "code",
   "execution_count": 22,
   "metadata": {},
   "outputs": [],
   "source": [
    "missing_dates = pd.to_datetime(missing_dates)"
   ]
  },
  {
   "cell_type": "code",
   "execution_count": 23,
   "metadata": {},
   "outputs": [
    {
     "data": {
      "text/plain": [
       "DatetimeIndex(['2014-11-27', '2014-12-25', '2015-11-26', '2015-12-25',\n",
       "               '2016-11-24', '2016-12-25', '2017-11-23', '2017-12-25'],\n",
       "              dtype='datetime64[ns]', freq=None)"
      ]
     },
     "execution_count": 23,
     "metadata": {},
     "output_type": "execute_result"
    }
   ],
   "source": [
    "missing_dates"
   ]
  },
  {
   "cell_type": "code",
   "execution_count": 24,
   "metadata": {},
   "outputs": [],
   "source": [
    "df['selling'] = df['revenue'] / df['quantity']"
   ]
  },
  {
   "cell_type": "code",
   "execution_count": 25,
   "metadata": {},
   "outputs": [],
   "source": [
    "df['discount'] = df['priceIndex'] - df['selling']"
   ]
  },
  {
   "cell_type": "code",
   "execution_count": 26,
   "metadata": {},
   "outputs": [
    {
     "data": {
      "text/html": [
       "<div>\n",
       "<style scoped>\n",
       "    .dataframe tbody tr th:only-of-type {\n",
       "        vertical-align: middle;\n",
       "    }\n",
       "\n",
       "    .dataframe tbody tr th {\n",
       "        vertical-align: top;\n",
       "    }\n",
       "\n",
       "    .dataframe thead th {\n",
       "        text-align: right;\n",
       "    }\n",
       "</style>\n",
       "<table border=\"1\" class=\"dataframe\">\n",
       "  <thead>\n",
       "    <tr style=\"text-align: right;\">\n",
       "      <th></th>\n",
       "      <th>date</th>\n",
       "      <th>skuId</th>\n",
       "      <th>Hierarchy_1</th>\n",
       "      <th>Hierarchy_3</th>\n",
       "      <th>Hierarchy_5</th>\n",
       "      <th>quantity</th>\n",
       "      <th>priceIndex</th>\n",
       "      <th>revenue</th>\n",
       "      <th>selling</th>\n",
       "      <th>discount</th>\n",
       "    </tr>\n",
       "  </thead>\n",
       "  <tbody>\n",
       "    <tr>\n",
       "      <th>0</th>\n",
       "      <td>2013-12-30</td>\n",
       "      <td>9781400032716</td>\n",
       "      <td>Fict Literary</td>\n",
       "      <td>Fiction</td>\n",
       "      <td>TRADE PAPERBACK</td>\n",
       "      <td>1</td>\n",
       "      <td>14.9500</td>\n",
       "      <td>13.45</td>\n",
       "      <td>13.450000</td>\n",
       "      <td>1.500000</td>\n",
       "    </tr>\n",
       "    <tr>\n",
       "      <th>1</th>\n",
       "      <td>2013-12-30</td>\n",
       "      <td>9781400205394</td>\n",
       "      <td>Christn Living</td>\n",
       "      <td>Religion/Inspiration</td>\n",
       "      <td>TRADE PAPERBACK</td>\n",
       "      <td>1</td>\n",
       "      <td>8.4900</td>\n",
       "      <td>8.49</td>\n",
       "      <td>8.490000</td>\n",
       "      <td>0.000000</td>\n",
       "    </tr>\n",
       "    <tr>\n",
       "      <th>2</th>\n",
       "      <td>2013-12-31</td>\n",
       "      <td>9780060530891</td>\n",
       "      <td>Infant/Tod-Potty Training</td>\n",
       "      <td>Parenting</td>\n",
       "      <td>TRADE HARDCOVER</td>\n",
       "      <td>5</td>\n",
       "      <td>10.9900</td>\n",
       "      <td>52.75</td>\n",
       "      <td>10.550000</td>\n",
       "      <td>0.440000</td>\n",
       "    </tr>\n",
       "    <tr>\n",
       "      <th>3</th>\n",
       "      <td>2013-12-31</td>\n",
       "      <td>9780060570941</td>\n",
       "      <td>Soccer Bio</td>\n",
       "      <td>Sports Team</td>\n",
       "      <td>TRADE PAPERBACK</td>\n",
       "      <td>4</td>\n",
       "      <td>14.0525</td>\n",
       "      <td>56.21</td>\n",
       "      <td>14.052500</td>\n",
       "      <td>0.000000</td>\n",
       "    </tr>\n",
       "    <tr>\n",
       "      <th>4</th>\n",
       "      <td>2013-12-31</td>\n",
       "      <td>9780060924584</td>\n",
       "      <td>Fict Literary</td>\n",
       "      <td>Fiction</td>\n",
       "      <td>TRADE PAPERBACK</td>\n",
       "      <td>7</td>\n",
       "      <td>16.9900</td>\n",
       "      <td>110.43</td>\n",
       "      <td>15.775714</td>\n",
       "      <td>1.214286</td>\n",
       "    </tr>\n",
       "  </tbody>\n",
       "</table>\n",
       "</div>"
      ],
      "text/plain": [
       "        date          skuId                Hierarchy_1           Hierarchy_3  \\\n",
       "0 2013-12-30  9781400032716              Fict Literary               Fiction   \n",
       "1 2013-12-30  9781400205394             Christn Living  Religion/Inspiration   \n",
       "2 2013-12-31  9780060530891  Infant/Tod-Potty Training             Parenting   \n",
       "3 2013-12-31  9780060570941                 Soccer Bio           Sports Team   \n",
       "4 2013-12-31  9780060924584              Fict Literary               Fiction   \n",
       "\n",
       "       Hierarchy_5  quantity  priceIndex  revenue    selling  discount  \n",
       "0  TRADE PAPERBACK         1     14.9500    13.45  13.450000  1.500000  \n",
       "1  TRADE PAPERBACK         1      8.4900     8.49   8.490000  0.000000  \n",
       "2  TRADE HARDCOVER         5     10.9900    52.75  10.550000  0.440000  \n",
       "3  TRADE PAPERBACK         4     14.0525    56.21  14.052500  0.000000  \n",
       "4  TRADE PAPERBACK         7     16.9900   110.43  15.775714  1.214286  "
      ]
     },
     "execution_count": 26,
     "metadata": {},
     "output_type": "execute_result"
    }
   ],
   "source": [
    "df.head()"
   ]
  },
  {
   "cell_type": "code",
   "execution_count": 27,
   "metadata": {},
   "outputs": [],
   "source": [
    "df_2013_discount = df[(df['date'] < '2014-01-01') & (df['discount'] > 0)]\n",
    "df_2013_no_discount = df[(df['date'] < '2014-01-01') & (df['discount'] == 0)]"
   ]
  },
  {
   "cell_type": "code",
   "execution_count": 28,
   "metadata": {},
   "outputs": [],
   "source": [
    "df_discount =  df[df['discount'] > 0]\n",
    "df_no_discount = df[df['discount'] == 0]"
   ]
  },
  {
   "cell_type": "code",
   "execution_count": 47,
   "metadata": {},
   "outputs": [],
   "source": [
    "df_discount_group = df_discount.groupby(['Hierarchy_1']).sum()['revenue'].sort_index()"
   ]
  },
  {
   "cell_type": "code",
   "execution_count": 48,
   "metadata": {},
   "outputs": [],
   "source": [
    "df_no_discount_group = df_no_discount.groupby(['Hierarchy_1']).sum()['revenue'].sort_index()"
   ]
  },
  {
   "cell_type": "code",
   "execution_count": 49,
   "metadata": {},
   "outputs": [],
   "source": [
    "df_final = df_discount_group > df_no_discount_group"
   ]
  },
  {
   "cell_type": "code",
   "execution_count": 50,
   "metadata": {},
   "outputs": [
    {
     "data": {
      "text/plain": [
       "Hierarchy_1\n",
       "ACT                            True\n",
       "AP                             True\n",
       "Access                         True\n",
       "Accounting/Finance             True\n",
       "Administration                 True\n",
       "African America                True\n",
       "Afterlife/Past Lives/Rein      True\n",
       "Aging                          True\n",
       "All-Purpose                    True\n",
       "Anatomy/Physiol                True\n",
       "Ancient Hist                   True\n",
       "Anthologies                    True\n",
       "Anthropology                   True\n",
       "Antiques/Coll                  True\n",
       "Apple Devices                  True\n",
       "Appliance                      True\n",
       "Arabic                         True\n",
       "Artists                        True\n",
       "Attack on Titan                True\n",
       "Avengers                       True\n",
       "B&N Shakespeare                True\n",
       "Baking                         True\n",
       "Baseball Ref & Instruction     True\n",
       "Basketball Writing             True\n",
       "Baths                          True\n",
       "Batman                         True\n",
       "Biography                      True\n",
       "Biography Other                True\n",
       "Birds & Birding.               True\n",
       "Black Butler                   True\n",
       "                              ...  \n",
       "Taxes                          True\n",
       "Teacher Cert                   True\n",
       "Thrillers                      True\n",
       "Thrillers-Psychological        True\n",
       "Toronto/Ontario                True\n",
       "Transp Repair Manl            False\n",
       "Transp Writing                 True\n",
       "Trav Writ For                  True\n",
       "Trees & Plants FG              True\n",
       "True Crime                     True\n",
       "U.S. History                   True\n",
       "Urban Fiction                  True\n",
       "Us Armed Forces                True\n",
       "Vegan                          True\n",
       "Vegetarian                     True\n",
       "Vietnam War                    True\n",
       "Visual Basic                   True\n",
       "WWII                           True\n",
       "Walking Dead                   True\n",
       "Watercolor                     True\n",
       "Waterford Plexi                True\n",
       "Weight Loss                    True\n",
       "Westerns                       True\n",
       "Wicca                          True\n",
       "Women Investiga                True\n",
       "Womens Health                  True\n",
       "Womens Studies                 True\n",
       "Word                           True\n",
       "Word Searches                  True\n",
       "Wordpress                      True\n",
       "Name: revenue, Length: 286, dtype: bool"
      ]
     },
     "execution_count": 50,
     "metadata": {},
     "output_type": "execute_result"
    }
   ],
   "source": [
    "df_final"
   ]
  },
  {
   "cell_type": "code",
   "execution_count": 51,
   "metadata": {},
   "outputs": [],
   "source": [
    "df_final = df_final[df_final == True]"
   ]
  },
  {
   "cell_type": "code",
   "execution_count": 52,
   "metadata": {},
   "outputs": [
    {
     "data": {
      "text/plain": [
       "Hierarchy_1\n",
       "ACT                           True\n",
       "AP                            True\n",
       "Access                        True\n",
       "Accounting/Finance            True\n",
       "Administration                True\n",
       "African America               True\n",
       "Afterlife/Past Lives/Rein     True\n",
       "Aging                         True\n",
       "All-Purpose                   True\n",
       "Anatomy/Physiol               True\n",
       "Ancient Hist                  True\n",
       "Anthologies                   True\n",
       "Anthropology                  True\n",
       "Antiques/Coll                 True\n",
       "Apple Devices                 True\n",
       "Appliance                     True\n",
       "Arabic                        True\n",
       "Artists                       True\n",
       "Attack on Titan               True\n",
       "Avengers                      True\n",
       "B&N Shakespeare               True\n",
       "Baking                        True\n",
       "Baseball Ref & Instruction    True\n",
       "Basketball Writing            True\n",
       "Baths                         True\n",
       "Batman                        True\n",
       "Biography                     True\n",
       "Biography Other               True\n",
       "Birds & Birding.              True\n",
       "Black Butler                  True\n",
       "                              ... \n",
       "Tarot                         True\n",
       "Taxes                         True\n",
       "Teacher Cert                  True\n",
       "Thrillers                     True\n",
       "Thrillers-Psychological       True\n",
       "Toronto/Ontario               True\n",
       "Transp Writing                True\n",
       "Trav Writ For                 True\n",
       "Trees & Plants FG             True\n",
       "True Crime                    True\n",
       "U.S. History                  True\n",
       "Urban Fiction                 True\n",
       "Us Armed Forces               True\n",
       "Vegan                         True\n",
       "Vegetarian                    True\n",
       "Vietnam War                   True\n",
       "Visual Basic                  True\n",
       "WWII                          True\n",
       "Walking Dead                  True\n",
       "Watercolor                    True\n",
       "Waterford Plexi               True\n",
       "Weight Loss                   True\n",
       "Westerns                      True\n",
       "Wicca                         True\n",
       "Women Investiga               True\n",
       "Womens Health                 True\n",
       "Womens Studies                True\n",
       "Word                          True\n",
       "Word Searches                 True\n",
       "Wordpress                     True\n",
       "Name: revenue, Length: 270, dtype: bool"
      ]
     },
     "execution_count": 52,
     "metadata": {},
     "output_type": "execute_result"
    }
   ],
   "source": [
    "df_final"
   ]
  },
  {
   "cell_type": "code",
   "execution_count": 53,
   "metadata": {},
   "outputs": [
    {
     "name": "stdout",
     "output_type": "stream",
     "text": [
      "ACT\n",
      "AP\n",
      "Access\n",
      "Accounting/Finance\n",
      "Administration\n",
      "African America\n",
      "Afterlife/Past Lives/Rein\n",
      "Aging\n",
      "All-Purpose\n",
      "Anatomy/Physiol\n",
      "Ancient Hist\n",
      "Anthologies\n",
      "Anthropology\n",
      "Antiques/Coll\n",
      "Apple Devices\n",
      "Appliance\n",
      "Arabic\n",
      "Artists\n",
      "Attack on Titan\n",
      "Avengers\n",
      "B&N Shakespeare\n",
      "Baking\n",
      "Baseball Ref & Instruction\n",
      "Basketball Writing\n",
      "Baths\n",
      "Batman\n",
      "Biography\n",
      "Biography Other\n",
      "Birds & Birding.\n",
      "Black Butler\n",
      "British Mystery\n",
      "Buddhism\n",
      "Business Biographies\n",
      "Busn Profiles\n",
      "Cakes\n",
      "Calif/City\n",
      "Calming Your Stress\n",
      "Cameras\n",
      "Cancer\n",
      "Card Games\n",
      "Caribbean\n",
      "Cartoons\n",
      "Chakras & Crystals\n",
      "Child/Ado Chal-Anxiety\n",
      "Child/Ado-Other Challenges\n",
      "Chinese\n",
      "Christian Fiction\n",
      "Christian Inspi\n",
      "Christian Life-Family\n",
      "Christian Life-Health\n",
      "Christianity\n",
      "Christn Living\n",
      "Civil War\n",
      "Cognitive Science\n",
      "College Guide\n",
      "College life\n",
      "Coloring Books\n",
      "Consumer Behavior\n",
      "Contemporary Romance\n",
      "Creativity\n",
      "Criminology\n",
      "Crocheting\n",
      "Crosswords Easy\n",
      "Crosswords Hard\n",
      "Crosswords Intermediate\n",
      "Dark Fantasy\n",
      "Deadman Wonderland\n",
      "Desserts\n",
      "Detox/Cleansing\n",
      "Diabetes Cookbooks\n",
      "Digestive/Gut Health/IBS\n",
      "Disaster Preparedness\n",
      "Dogs\n",
      "Domestic Affairs\n",
      "Drawing\n",
      "E EUR\n",
      "Eastern Europe Hist\n",
      "Economics & Finance\n",
      "Education\n",
      "Electronic Gaming\n",
      "Energy Work\n",
      "English\n",
      "Environmental Issues\n",
      "Erotic Romance\n",
      "Essays\n",
      "Etiquette\n",
      "Excel\n",
      "Fam Rel-Parent-Dads\n",
      "Fam Rel-Parenting\n",
      "Fam Rel-Situational Parenting\n",
      "Family/Child\n",
      "Fantasy\n",
      "Fashion\n",
      "Favorite Chefs\n",
      "Fict Literary\n",
      "Fict Women\n",
      "Fiction\n",
      "Fiction Writing\n",
      "Financial Planning\n",
      "Finding Happiness\n",
      "Fishing\n",
      "Flash\n",
      "Football Writing\n",
      "France\n",
      "France History\n",
      "French\n",
      "French Dictionaries\n",
      "Gambling\n",
      "Gardening Ref\n",
      "Germany/Austria Hist\n",
      "Gift/Award Bibl\n",
      "Gluten-free\n",
      "Grammar\n",
      "Graphic Novel B\n",
      "Graphic Novel K\n",
      "Great Britain Hist\n",
      "Green Lantern\n",
      "Grn Liv/Energy\n",
      "Heart/Cholest/Hypertension\n",
      "High School Exams\n",
      "Hist Biog/Memoir\n",
      "Hist/Phil of Science\n",
      "Historical Fiction\n",
      "Historical Myst\n",
      "History\n",
      "Infant/Tod-Infant 0-2\n",
      "Infant/Tod-Potty Training\n",
      "Insects & Spiders\n",
      "Interior Design\n",
      "Investing\n",
      "Islam\n",
      "Italian\n",
      "Italian Phr Boo\n",
      "Italy\n",
      "Jewelry/Metalwk\n",
      "Judaica Hist/Th\n",
      "Justice League\n",
      "Kabbalah\n",
      "Knitting\n",
      "Korean War\n",
      "Latin\n",
      "Led Zeppelin\n",
      "Linguistics\n",
      "Linux\n",
      "Literature\n",
      "Logic/Brainteas\n",
      "MS Office\n",
      "Magick & Spells\n",
      "Marketing Strategies\n",
      "Marriage/Partnership\n",
      "Martial Arts\n",
      "Massage/Bodywork\n",
      "Math Study Aid\n",
      "Mathematics\n",
      "Med Review\n",
      "Medicine\n",
      "Memoir Other\n",
      "Mexico\n",
      "Mgt/Leadership\n",
      "Middle E Wars/Conflicts\n",
      "Midlife & Beyond\n",
      "Military SciFi\n",
      "Motivation/Self Mgt\n",
      "Music Bio\n",
      "Mystery\n",
      "Mythology\n",
      "New England\n",
      "New Zeal/S Pacific\n",
      "Nurs Procedure\n",
      "Other Diet/Nutrition\n",
      "Other Games\n",
      "Other Instruction\n",
      "Other Manga Series\n",
      "Other Regional World\n",
      "Papercrafts\n",
      "Paranormal\n",
      "Pd/Det/Foren\n",
      "Personal Finance\n",
      "Personal Growth\n",
      "Personality Disorders\n",
      "Philosophy\n",
      "Photo Essay\n",
      "Photo/Video Technique\n",
      "Photoshop\n",
      "Physics\n",
      "Plays\n",
      "Plays Shakespea\n",
      "Poetry\n",
      "Popular Psychology\n",
      "Portuguese\n",
      "Preg/Child-Big Brother/Sister\n",
      "Preg/Child-Gdes for Dad\n",
      "Production\n",
      "Python\n",
      "Quilting/Patchw\n",
      "Real Estate\n",
      "Regional Gardening\n",
      "Regional Ghosts\n",
      "Regional Local\n",
      "Regional Nature\n",
      "Regional Team Sports\n",
      "Regional US Travel\n",
      "Relationships\n",
      "Remodel/Renovtn\n",
      "Role Playing\n",
      "Running\n",
      "Russia History\n",
      "SP Chapter Bks\n",
      "SP Juv Pict Bks\n",
      "SP Juv Spinner\n",
      "SP Young Reader\n",
      "Saga\n",
      "School Age 4-8\n",
      "Science Fiction\n",
      "Science Writing & Ref\n",
      "Screen to Page\n",
      "Self Improvemt\n",
      "Self-Esteem/Body Image\n",
      "Soccer Bio\n",
      "Social Skills\n",
      "Sociology\n",
      "Softball\n",
      "Songbooks\n",
      "South/Se Region\n",
      "Southwestern\n",
      "Sp Vocab/Gram/Pronun\n",
      "Spanish Dictionaries\n",
      "Spanish Teens\n",
      "Sparkcharts\n",
      "Sparknotes\n",
      "Spirits\n",
      "Star Wars\n",
      "Success\n",
      "Sudoku\n",
      "Sudoku Hard\n",
      "Superheroes A\n",
      "Superheroes J\n",
      "Superheroes W\n",
      "Tagalog\n",
      "Taoism\n",
      "Tarot\n",
      "Taxes\n",
      "Teacher Cert\n",
      "Thrillers\n",
      "Thrillers-Psychological\n",
      "Toronto/Ontario\n",
      "Transp Writing\n",
      "Trav Writ For\n",
      "Trees & Plants FG\n",
      "True Crime\n",
      "U.S. History\n",
      "Urban Fiction\n",
      "Us Armed Forces\n",
      "Vegan\n",
      "Vegetarian\n",
      "Vietnam War\n",
      "Visual Basic\n",
      "WWII\n",
      "Walking Dead\n",
      "Watercolor\n",
      "Waterford Plexi\n",
      "Weight Loss\n",
      "Westerns\n",
      "Wicca\n",
      "Women Investiga\n",
      "Womens Health\n",
      "Womens Studies\n",
      "Word\n",
      "Word Searches\n",
      "Wordpress\n"
     ]
    }
   ],
   "source": [
    "for index, value in df_final.iteritems():\n",
    "    print(index)"
   ]
  },
  {
   "cell_type": "code",
   "execution_count": 54,
   "metadata": {},
   "outputs": [
    {
     "data": {
      "text/html": [
       "<div>\n",
       "<style scoped>\n",
       "    .dataframe tbody tr th:only-of-type {\n",
       "        vertical-align: middle;\n",
       "    }\n",
       "\n",
       "    .dataframe tbody tr th {\n",
       "        vertical-align: top;\n",
       "    }\n",
       "\n",
       "    .dataframe thead th {\n",
       "        text-align: right;\n",
       "    }\n",
       "</style>\n",
       "<table border=\"1\" class=\"dataframe\">\n",
       "  <thead>\n",
       "    <tr style=\"text-align: right;\">\n",
       "      <th></th>\n",
       "      <th>date</th>\n",
       "      <th>skuId</th>\n",
       "      <th>Hierarchy_1</th>\n",
       "      <th>Hierarchy_3</th>\n",
       "      <th>Hierarchy_5</th>\n",
       "      <th>quantity</th>\n",
       "      <th>priceIndex</th>\n",
       "      <th>revenue</th>\n",
       "      <th>selling</th>\n",
       "      <th>discount</th>\n",
       "    </tr>\n",
       "  </thead>\n",
       "  <tbody>\n",
       "    <tr>\n",
       "      <th>0</th>\n",
       "      <td>2013-12-30</td>\n",
       "      <td>9781400032716</td>\n",
       "      <td>Fict Literary</td>\n",
       "      <td>Fiction</td>\n",
       "      <td>TRADE PAPERBACK</td>\n",
       "      <td>1</td>\n",
       "      <td>14.9500</td>\n",
       "      <td>13.45</td>\n",
       "      <td>13.450000</td>\n",
       "      <td>1.500000</td>\n",
       "    </tr>\n",
       "    <tr>\n",
       "      <th>1</th>\n",
       "      <td>2013-12-30</td>\n",
       "      <td>9781400205394</td>\n",
       "      <td>Christn Living</td>\n",
       "      <td>Religion/Inspiration</td>\n",
       "      <td>TRADE PAPERBACK</td>\n",
       "      <td>1</td>\n",
       "      <td>8.4900</td>\n",
       "      <td>8.49</td>\n",
       "      <td>8.490000</td>\n",
       "      <td>0.000000</td>\n",
       "    </tr>\n",
       "    <tr>\n",
       "      <th>2</th>\n",
       "      <td>2013-12-31</td>\n",
       "      <td>9780060530891</td>\n",
       "      <td>Infant/Tod-Potty Training</td>\n",
       "      <td>Parenting</td>\n",
       "      <td>TRADE HARDCOVER</td>\n",
       "      <td>5</td>\n",
       "      <td>10.9900</td>\n",
       "      <td>52.75</td>\n",
       "      <td>10.550000</td>\n",
       "      <td>0.440000</td>\n",
       "    </tr>\n",
       "    <tr>\n",
       "      <th>3</th>\n",
       "      <td>2013-12-31</td>\n",
       "      <td>9780060570941</td>\n",
       "      <td>Soccer Bio</td>\n",
       "      <td>Sports Team</td>\n",
       "      <td>TRADE PAPERBACK</td>\n",
       "      <td>4</td>\n",
       "      <td>14.0525</td>\n",
       "      <td>56.21</td>\n",
       "      <td>14.052500</td>\n",
       "      <td>0.000000</td>\n",
       "    </tr>\n",
       "    <tr>\n",
       "      <th>4</th>\n",
       "      <td>2013-12-31</td>\n",
       "      <td>9780060924584</td>\n",
       "      <td>Fict Literary</td>\n",
       "      <td>Fiction</td>\n",
       "      <td>TRADE PAPERBACK</td>\n",
       "      <td>7</td>\n",
       "      <td>16.9900</td>\n",
       "      <td>110.43</td>\n",
       "      <td>15.775714</td>\n",
       "      <td>1.214286</td>\n",
       "    </tr>\n",
       "  </tbody>\n",
       "</table>\n",
       "</div>"
      ],
      "text/plain": [
       "        date          skuId                Hierarchy_1           Hierarchy_3  \\\n",
       "0 2013-12-30  9781400032716              Fict Literary               Fiction   \n",
       "1 2013-12-30  9781400205394             Christn Living  Religion/Inspiration   \n",
       "2 2013-12-31  9780060530891  Infant/Tod-Potty Training             Parenting   \n",
       "3 2013-12-31  9780060570941                 Soccer Bio           Sports Team   \n",
       "4 2013-12-31  9780060924584              Fict Literary               Fiction   \n",
       "\n",
       "       Hierarchy_5  quantity  priceIndex  revenue    selling  discount  \n",
       "0  TRADE PAPERBACK         1     14.9500    13.45  13.450000  1.500000  \n",
       "1  TRADE PAPERBACK         1      8.4900     8.49   8.490000  0.000000  \n",
       "2  TRADE HARDCOVER         5     10.9900    52.75  10.550000  0.440000  \n",
       "3  TRADE PAPERBACK         4     14.0525    56.21  14.052500  0.000000  \n",
       "4  TRADE PAPERBACK         7     16.9900   110.43  15.775714  1.214286  "
      ]
     },
     "execution_count": 54,
     "metadata": {},
     "output_type": "execute_result"
    }
   ],
   "source": [
    "df.head()"
   ]
  },
  {
   "cell_type": "code",
   "execution_count": 55,
   "metadata": {},
   "outputs": [],
   "source": [
    "df_old = df[(df['date'] < '2017-10-30')]\n",
    "df_2017_18 = df[(df['date'] > '2017-10-30') & (df['date'] <= '2018-02-11')]\n",
    "\n",
    "df_2017_18_discount = df_2017_18[(df_2017_18['discount'] > 0)]\n",
    "df_2017_18_no_discount = df_2017_18[(df_2017_18['discount'] == 0)]"
   ]
  },
  {
   "cell_type": "code",
   "execution_count": 56,
   "metadata": {},
   "outputs": [],
   "source": [
    "df_2017_18_discount_group = df_2017_18_discount.groupby(['skuId']).sum()['revenue'].sort_index()\n",
    "df_2017_18_no_discount_group = df_2017_18_no_discount.groupby(['skuId']).sum()['revenue'].sort_index()"
   ]
  },
  {
   "cell_type": "code",
   "execution_count": 57,
   "metadata": {},
   "outputs": [
    {
     "data": {
      "text/plain": [
       "skuId\n",
       "9780060530891      3387.54\n",
       "9780060570941      2857.77\n",
       "9780060924584      1801.01\n",
       "9780061155772      2063.01\n",
       "9780061351631      1394.96\n",
       "9780061451843       238.77\n",
       "9780061469060       120.93\n",
       "9780061687457     12580.59\n",
       "9780061724947      3037.87\n",
       "9780061740237      2713.60\n",
       "9780061763298       236.82\n",
       "9780061997211       199.42\n",
       "9780062226655       189.79\n",
       "9780062267535      7583.86\n",
       "9780062323774       155.94\n",
       "9780062387875      1273.69\n",
       "9780062388513        18.89\n",
       "9780062445544       429.55\n",
       "9780062457332      1101.67\n",
       "9780062458827      5532.09\n",
       "9780062486141     34879.87\n",
       "9780062661371      5930.38\n",
       "9780066620992    121731.38\n",
       "9780071486101     16469.09\n",
       "9780071767736      2156.73\n",
       "9780071807371      2590.91\n",
       "9780134511184      7353.18\n",
       "9780140154030       167.30\n",
       "9780140238280      4143.84\n",
       "9780142181676      1474.97\n",
       "                   ...    \n",
       "9781848312050        42.77\n",
       "9781889057774       271.91\n",
       "9781890774981      1370.51\n",
       "9781904991847      5937.79\n",
       "9781907708534        26.95\n",
       "9781910904329       183.40\n",
       "9781930332966       442.01\n",
       "9781931636872      3147.20\n",
       "9781933363059       275.76\n",
       "9781933372006      3817.65\n",
       "9781933397269        88.48\n",
       "9781936214600       769.37\n",
       "9781936913954       240.67\n",
       "9781937538781       471.35\n",
       "9781937715281      9765.80\n",
       "9781940352015     17232.89\n",
       "9781943451364     11599.17\n",
       "9781943893058      1706.23\n",
       "9782035410153      3198.90\n",
       "9782035410412       216.14\n",
       "9782067216129      1037.41\n",
       "9783836544030       876.74\n",
       "9783836555227      1047.76\n",
       "9783836555814      1320.72\n",
       "9786071104809      1384.66\n",
       "9788466331890       437.18\n",
       "9788496746763        14.40\n",
       "9788497594240       200.94\n",
       "9788498259346        38.32\n",
       "9789812689634      4510.04\n",
       "Name: revenue, Length: 490, dtype: float64"
      ]
     },
     "execution_count": 57,
     "metadata": {},
     "output_type": "execute_result"
    }
   ],
   "source": [
    "df_2017_18_discount_group"
   ]
  },
  {
   "cell_type": "code",
   "execution_count": 41,
   "metadata": {},
   "outputs": [],
   "source": [
    "new_sales = list(set(df_2017_18_discount_group.index) - set(df_old['skuId']))"
   ]
  },
  {
   "cell_type": "code",
   "execution_count": 42,
   "metadata": {},
   "outputs": [],
   "source": [
    "df_new_sales = df[df.skuId.isin(tuple(new_sales))] "
   ]
  },
  {
   "cell_type": "code",
   "execution_count": 43,
   "metadata": {},
   "outputs": [],
   "source": [
    "df_new_discount = []\n",
    "df_new_no_discount = []\n",
    "\n",
    "for sale in new_sales:\n",
    "    df_new_discount.append(df_new_sales[(df_new_sales['skuId'] == sale) & (df_new_sales['discount'] > 0)])\n",
    "    df_new_no_discount.append(df_new_sales[(df_new_sales['skuId'] == sale) & (df_new_sales['discount'] == 0)])"
   ]
  },
  {
   "cell_type": "code",
   "execution_count": 44,
   "metadata": {},
   "outputs": [
    {
     "data": {
      "text/plain": [
       "3"
      ]
     },
     "execution_count": 44,
     "metadata": {},
     "output_type": "execute_result"
    }
   ],
   "source": [
    "len(df_new_discount)"
   ]
  },
  {
   "cell_type": "code",
   "execution_count": 45,
   "metadata": {},
   "outputs": [
    {
     "data": {
      "text/plain": [
       "3"
      ]
     },
     "execution_count": 45,
     "metadata": {},
     "output_type": "execute_result"
    }
   ],
   "source": [
    "len(df_new_no_discount)"
   ]
  },
  {
   "cell_type": "code",
   "execution_count": 46,
   "metadata": {},
   "outputs": [
    {
     "data": {
      "image/png": "[encoded data removed]",
      "text/plain": [
       "<Figure size 1440x720 with 1 Axes>"
      ]
     },
     "metadata": {},
     "output_type": "display_data"
    },
    {
     "data": {
      "image/png": "[encoded data removed]",
      "text/plain": [
       "<Figure size 1440x720 with 1 Axes>"
      ]
     },
     "metadata": {},
     "output_type": "display_data"
    },
    {
     "data": {
      "image/png": "[encoded data removed]",
      "text/plain": [
       "<Figure size 1440x720 with 1 Axes>"
      ]
     },
     "metadata": {},
     "output_type": "display_data"
    }
   ],
   "source": [
    "for new_discount, new_no_discount in zip(df_new_discount, df_new_no_discount):\n",
    "    plt.figure(figsize=(20,10))\n",
    "    plt.plot(new_discount['date'], new_discount['quantity'], marker='.', color='b')\n",
    "    plt.plot(new_no_discount['date'], new_no_discount['quantity'], marker='.', color='r')\n",
    "#     plt.xticks(pd.date_range('2017-10-30', '2018-02-11'))\n",
    "    plt.show()"
   ]
  },
  {
   "cell_type": "code",
   "execution_count": null,
   "metadata": {},
   "outputs": [],
   "source": []
  },
  {
   "cell_type": "code",
   "execution_count": null,
   "metadata": {},
   "outputs": [],
   "source": []
  }
 ],
 "metadata": {
  "kernelspec": {
   "display_name": "Python 3",
   "language": "python",
   "name": "python3"
  },
  "language_info": {
   "codemirror_mode": {
    "name": "ipython",
    "version": 3
   },
   "file_extension": ".py",
   "mimetype": "text/x-python",
   "name": "python",
   "nbconvert_exporter": "python",
   "pygments_lexer": "ipython3",
   "version": "3.6.6"
  }
 },
 "nbformat": 4,
 "nbformat_minor": 2
}
